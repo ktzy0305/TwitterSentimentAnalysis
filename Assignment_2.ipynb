{
 "cells": [
  {
   "cell_type": "markdown",
   "metadata": {},
   "source": [
    "<table class=\"table table-bordered\">\n",
    "    <tr>\n",
    "        <th style=\"text-align:center; width:25%\"><img src='https://www.np.edu.sg/PublishingImages/Pages/default/odp/ICT.jpg' style=\"width: 250px; height: 125px; \"></th>\n",
    "        <th style=\"text-align:center;\"><h1>Deep Learning</h1><h2>Assignment (Problem 2) - Sentiment Analysis Model (Group)</h2><h3>AY2019/20 Semester</h3></th>\n",
    "    </tr>\n",
    "</table>"
   ]
  },
  {
   "cell_type": "code",
   "execution_count": 1,
   "metadata": {},
   "outputs": [
    {
     "name": "stderr",
     "output_type": "stream",
     "text": [
      "Using TensorFlow backend.\n"
     ]
    }
   ],
   "source": [
    "# Import the Required Packages\n",
    "import keras\n",
    "import os\n",
    "from keras import layers, models, optimizers, regularizers\n",
    "from keras.layers import Embedding, SimpleRNN, GRU\n",
    "from keras.preprocessing.text import Tokenizer\n",
    "from keras.preprocessing.sequence import pad_sequences\n",
    "import matplotlib.pyplot as plt\n",
    "import numpy as np"
   ]
  },
  {
   "cell_type": "markdown",
   "metadata": {},
   "source": [
    "## Step 1 – Data Loading and Processing (Group)"
   ]
  },
  {
   "cell_type": "markdown",
   "metadata": {},
   "source": [
    "### 1.1 Data Loading"
   ]
  },
  {
   "cell_type": "code",
   "execution_count": 2,
   "metadata": {},
   "outputs": [
    {
     "name": "stdout",
     "output_type": "stream",
     "text": [
      "{0: '😍', 1: '😂', 2: '📷', 3: '🔥', 4: '❤'}\n",
      "A total of:  5 Emoji Icons\n"
     ]
    }
   ],
   "source": [
    "# Load the emoji_dictionary\n",
    "import pandas as pd\n",
    "df = pd.read_csv('Mapping.csv', delimiter=',')\n",
    "emoji_dictionary = df.loc[:,'emoticons'].to_dict()\n",
    "print(emoji_dictionary)\n",
    "print('A total of: ', len(emoji_dictionary), 'Emoji Icons')"
   ]
  },
  {
   "cell_type": "code",
   "execution_count": 3,
   "metadata": {},
   "outputs": [],
   "source": [
    "# load the dataset\n",
    "dat = pd.read_csv('dataset.csv', delimiter=',')\n",
    "texts = dat.loc[:,'TEXT'].values \n",
    "labels = dat.loc[:,'Label'].values"
   ]
  },
  {
   "cell_type": "code",
   "execution_count": 4,
   "metadata": {},
   "outputs": [
    {
     "name": "stdout",
     "output_type": "stream",
     "text": [
      "the maximum length of the text inputs is  34\n"
     ]
    }
   ],
   "source": [
    "# Check the maximum length of texts\n",
    "max_len = -1\n",
    "for example in texts:\n",
    "    if len(example.split()) > max_len:\n",
    "        max_len = len(example.split())\n",
    "        \n",
    "print('the maximum length of the text inputs is ', max_len)"
   ]
  },
  {
   "cell_type": "markdown",
   "metadata": {},
   "source": [
    "### 1.2 Data Processing\n"
   ]
  },
  {
   "cell_type": "code",
   "execution_count": 5,
   "metadata": {},
   "outputs": [
    {
     "name": "stdout",
     "output_type": "stream",
     "text": [
      "Found 54076 unique tokens.\n",
      "Shape of data tensor: (42546, 20)\n",
      "Shape of label tensor: (42546,)\n"
     ]
    }
   ],
   "source": [
    "# Convert the texts and labels into numeric tensors\n",
    "maxlen = 20  # Cut each tweet after 20 words\n",
    "max_words = 10000  # We will only consider the top 10,000 words (vocabulary) in the dataset (dictionary)\n",
    "\n",
    "tokenizer = Tokenizer(num_words=max_words)\n",
    "tokenizer.fit_on_texts(texts)\n",
    "sequences = tokenizer.texts_to_sequences(texts)\n",
    "\n",
    "word_index = tokenizer.word_index\n",
    "print('Found %s unique tokens.' %len(word_index))\n",
    "\n",
    "X = pad_sequences(sequences, maxlen=maxlen)\n",
    "y = np.asarray(labels)\n",
    "print('Shape of data tensor:', X.shape)\n",
    "print('Shape of label tensor:', y.shape)"
   ]
  },
  {
   "cell_type": "code",
   "execution_count": 6,
   "metadata": {},
   "outputs": [
    {
     "name": "stdout",
     "output_type": "stream",
     "text": [
      "Maxwell heads home @ Summa Akron City Hospital\n",
      "\n",
      "[   0    0    0    0    0    0    0    0    0    0    0    0    0    0\n",
      " 9219 3796   85 7468   68 1115]\n",
      "0\n"
     ]
    }
   ],
   "source": [
    "# Sample Tweet\n",
    "print(texts[4])\n",
    "print(X[4])\n",
    "print(y[4])"
   ]
  },
  {
   "cell_type": "code",
   "execution_count": 7,
   "metadata": {},
   "outputs": [
    {
     "name": "stdout",
     "output_type": "stream",
     "text": [
      "Found 400000 word vectors.\n"
     ]
    }
   ],
   "source": [
    "# Desktop\n",
    "# glove_dir = \"C:/Users/Kevin/Documents/Deep Learning/Data/glove.6B\"\n",
    "# Laptop\n",
    "glove_dir = \"D:/DL/Data/glove.6B\"\n",
    "embeddings_index = {}\n",
    "f = open(os.path.join(glove_dir, 'glove.6B.50d.txt'), encoding=\"utf8\")\n",
    "for line in f:\n",
    "    values = line.split()\n",
    "    word = values[0]\n",
    "    coefs = np.asarray(values[1:], dtype='float32')\n",
    "    embeddings_index[word] = coefs\n",
    "f.close()\n",
    "\n",
    "print('Found %s word vectors.' % len(embeddings_index))"
   ]
  },
  {
   "cell_type": "code",
   "execution_count": 8,
   "metadata": {},
   "outputs": [],
   "source": [
    "embedding_dim = 50\n",
    "embedding_matrix = np.zeros((max_words, embedding_dim))\n",
    "for word, i in word_index.items():\n",
    "    embedding_vector = embeddings_index.get(word)\n",
    "    if i < max_words:\n",
    "        if embedding_vector is not None:\n",
    "            # Words not found in embedding index will be all zeros\n",
    "            embedding_matrix[i] = embedding_vector"
   ]
  },
  {
   "cell_type": "code",
   "execution_count": 9,
   "metadata": {},
   "outputs": [
    {
     "name": "stdout",
     "output_type": "stream",
     "text": [
      "[[ 0.          0.          0.         ...  0.          0.\n",
      "   0.        ]\n",
      " [ 0.41800001  0.24968    -0.41242    ... -0.18411    -0.11514\n",
      "  -0.78580999]\n",
      " [ 0.65028    -0.1691      1.12370002 ...  0.20633     0.89665997\n",
      "   0.30050001]\n",
      " ...\n",
      " [-1.02460003  0.26556     0.46671    ...  0.71375    -0.42102\n",
      "   0.31593999]\n",
      " [ 0.          0.          0.         ...  0.          0.\n",
      "   0.        ]\n",
      " [ 0.65265     0.098014    0.19393    ... -0.78868997 -0.39837\n",
      "  -0.33790001]]\n"
     ]
    }
   ],
   "source": [
    "print(embedding_matrix)"
   ]
  },
  {
   "cell_type": "markdown",
   "metadata": {},
   "source": [
    "### 1.3 Data Sampling"
   ]
  },
  {
   "cell_type": "code",
   "execution_count": 10,
   "metadata": {},
   "outputs": [],
   "source": [
    "# Split the X & y into train and test sets\n",
    "from sklearn.model_selection import train_test_split\n",
    "X_train, X_test, y_train, y_test = train_test_split(X, y, test_size=0.2, random_state = 4)\n",
    "# Refer the report Appendix\n",
    "# Please enter the random_state assigned to your group"
   ]
  },
  {
   "cell_type": "markdown",
   "metadata": {},
   "source": [
    "## Step 2 – Develop a Sentiment Analysis Model (Individual: One Model Per Student) "
   ]
  },
  {
   "cell_type": "markdown",
   "metadata": {},
   "source": [
    "### Model#1 (Student Name: Kevin Toh)"
   ]
  },
  {
   "cell_type": "markdown",
   "metadata": {},
   "source": [
    "### Underfit"
   ]
  },
  {
   "cell_type": "code",
   "execution_count": 40,
   "metadata": {
    "scrolled": true
   },
   "outputs": [
    {
     "name": "stdout",
     "output_type": "stream",
     "text": [
      "_________________________________________________________________\n",
      "Layer (type)                 Output Shape              Param #   \n",
      "=================================================================\n",
      "embedding_5 (Embedding)      (None, 20, 50)            500000    \n",
      "_________________________________________________________________\n",
      "lstm_9 (LSTM)                (None, 20, 64)            29440     \n",
      "_________________________________________________________________\n",
      "lstm_10 (LSTM)               (None, 64)                33024     \n",
      "_________________________________________________________________\n",
      "dense_5 (Dense)              (None, 5)                 325       \n",
      "=================================================================\n",
      "Total params: 562,789\n",
      "Trainable params: 562,789\n",
      "Non-trainable params: 0\n",
      "_________________________________________________________________\n"
     ]
    }
   ],
   "source": [
    "# Build the Model\n",
    "model = models.Sequential()\n",
    "# model.add(layers.Embedding(max_words, 16, input_length=maxlen))\n",
    "model.add(layers.Embedding(max_words, embedding_dim, input_length=maxlen))\n",
    "model.add(layers.LSTM(64, return_sequences=True))\n",
    "model.add(layers.LSTM(64))\n",
    "model.add(layers.Dense(5, activation='softmax'))\n",
    "model.summary()A"
   ]
  },
  {
   "cell_type": "code",
   "execution_count": 41,
   "metadata": {},
   "outputs": [],
   "source": [
    "model.layers[0].set_weights([embedding_matrix])\n",
    "model.layers[0].trainable = False "
   ]
  },
  {
   "cell_type": "code",
   "execution_count": 42,
   "metadata": {},
   "outputs": [],
   "source": [
    "model.compile(optimizer='rmsprop',\n",
    "              loss='sparse_categorical_crossentropy',\n",
    "              metrics=['acc'])"
   ]
  },
  {
   "cell_type": "code",
   "execution_count": 43,
   "metadata": {},
   "outputs": [
    {
     "name": "stdout",
     "output_type": "stream",
     "text": [
      "Train on 27228 samples, validate on 6808 samples\n",
      "Epoch 1/10\n",
      "27228/27228 [==============================] - 16s 575us/step - loss: 1.3015 - acc: 0.4687 - val_loss: 1.2407 - val_acc: 0.4919\n",
      "Epoch 2/10\n",
      "27228/27228 [==============================] - 14s 505us/step - loss: 1.2289 - acc: 0.5011 - val_loss: 1.2082 - val_acc: 0.5087\n",
      "Epoch 3/10\n",
      "27228/27228 [==============================] - 14s 506us/step - loss: 1.2004 - acc: 0.5158 - val_loss: 1.2009 - val_acc: 0.5118\n",
      "Epoch 4/10\n",
      "27228/27228 [==============================] - 14s 505us/step - loss: 1.1735 - acc: 0.5305 - val_loss: 1.1773 - val_acc: 0.5256\n",
      "Epoch 5/10\n",
      "27228/27228 [==============================] - 14s 503us/step - loss: 1.1524 - acc: 0.5392 - val_loss: 1.1631 - val_acc: 0.5300\n",
      "Epoch 6/10\n",
      "27228/27228 [==============================] - 14s 525us/step - loss: 1.1299 - acc: 0.5472 - val_loss: 1.1579 - val_acc: 0.5303\n",
      "Epoch 7/10\n",
      "27228/27228 [==============================] - 14s 516us/step - loss: 1.1097 - acc: 0.5558 - val_loss: 1.1606 - val_acc: 0.5364\n",
      "Epoch 8/10\n",
      "27228/27228 [==============================] - 14s 505us/step - loss: 1.0907 - acc: 0.5658 - val_loss: 1.1407 - val_acc: 0.5308\n",
      "Epoch 9/10\n",
      "27228/27228 [==============================] - 14s 506us/step - loss: 1.0716 - acc: 0.5727 - val_loss: 1.1458 - val_acc: 0.5404\n",
      "Epoch 10/10\n",
      "27228/27228 [==============================] - 14s 515us/step - loss: 1.0562 - acc: 0.5796 - val_loss: 1.1181 - val_acc: 0.5546\n"
     ]
    }
   ],
   "source": [
    "# Train the Model\n",
    "history = model.fit(X_train, y_train,\n",
    "                    epochs=10,\n",
    "                    batch_size=128,\n",
    "                    validation_split=0.2)"
   ]
  },
  {
   "cell_type": "code",
   "execution_count": 44,
   "metadata": {
    "scrolled": false
   },
   "outputs": [
    {
     "data": {
      "image/png": "[encoded data removed]",
      "text/plain": [
       "<Figure size 432x288 with 1 Axes>"
      ]
     },
     "metadata": {
      "needs_background": "light"
     },
     "output_type": "display_data"
    },
    {
     "data": {
      "image/png": "[encoded data removed]",
      "text/plain": [
       "<Figure size 432x288 with 1 Axes>"
      ]
     },
     "metadata": {
      "needs_background": "light"
     },
     "output_type": "display_data"
    }
   ],
   "source": [
    "# Plot the Training and Validation Accuracy & Loss Scores\n",
    "%matplotlib inline\n",
    "\n",
    "acc = history.history['acc']\n",
    "val_acc = history.history['val_acc']\n",
    "loss = history.history['loss']\n",
    "val_loss = history.history['val_loss']\n",
    "\n",
    "epochs = range(len(acc))\n",
    "\n",
    "plt.plot(epochs, acc, 'bo', label='Training acc')\n",
    "plt.plot(epochs, val_acc, 'b', label='Validation acc')\n",
    "plt.title('Training and validation accuracy')\n",
    "plt.legend()\n",
    "\n",
    "plt.figure()\n",
    "\n",
    "plt.plot(epochs, loss, 'bo', label='Training loss')\n",
    "plt.plot(epochs, val_loss, 'b', label='Validation loss')\n",
    "plt.title('Training and validation loss')\n",
    "plt.legend()\n",
    "\n",
    "plt.show()"
   ]
  },
  {
   "cell_type": "markdown",
   "metadata": {},
   "source": [
    "### Overfit"
   ]
  },
  {
   "cell_type": "code",
   "execution_count": 51,
   "metadata": {},
   "outputs": [
    {
     "name": "stdout",
     "output_type": "stream",
     "text": [
      "_________________________________________________________________\n",
      "Layer (type)                 Output Shape              Param #   \n",
      "=================================================================\n",
      "embedding_7 (Embedding)      (None, 20, 50)            500000    \n",
      "_________________________________________________________________\n",
      "lstm_13 (LSTM)               (None, 20, 256)           314368    \n",
      "_________________________________________________________________\n",
      "lstm_14 (LSTM)               (None, 256)               525312    \n",
      "_________________________________________________________________\n",
      "dense_7 (Dense)              (None, 5)                 1285      \n",
      "=================================================================\n",
      "Total params: 1,340,965\n",
      "Trainable params: 1,340,965\n",
      "Non-trainable params: 0\n",
      "_________________________________________________________________\n"
     ]
    }
   ],
   "source": [
    "# Build the Model\n",
    "model = models.Sequential()\n",
    "# model.add(layers.Embedding(10000, 16, input_length=maxlen))\n",
    "model.add(layers.Embedding(max_words, embedding_dim, input_length=maxlen))\n",
    "model.add(layers.LSTM(256, return_sequences=True))\n",
    "model.add(layers.LSTM(256))\n",
    "model.add(layers.Dense(5, activation='softmax'))\n",
    "model.summary()"
   ]
  },
  {
   "cell_type": "code",
   "execution_count": 52,
   "metadata": {},
   "outputs": [],
   "source": [
    "model.layers[0].set_weights([embedding_matrix])\n",
    "model.layers[0].trainable = False "
   ]
  },
  {
   "cell_type": "code",
   "execution_count": 53,
   "metadata": {},
   "outputs": [],
   "source": [
    "model.compile(optimizer='rmsprop',\n",
    "              loss='sparse_categorical_crossentropy',\n",
    "              metrics=['acc'])"
   ]
  },
  {
   "cell_type": "code",
   "execution_count": 54,
   "metadata": {},
   "outputs": [
    {
     "name": "stdout",
     "output_type": "stream",
     "text": [
      "Train on 27228 samples, validate on 6808 samples\n",
      "Epoch 1/20\n",
      "27228/27228 [==============================] - 30s 1ms/step - loss: 1.3012 - acc: 0.4684 - val_loss: 1.2454 - val_acc: 0.4884\n",
      "Epoch 2/20\n",
      "27228/27228 [==============================] - 28s 1ms/step - loss: 1.2262 - acc: 0.5061 - val_loss: 1.2176 - val_acc: 0.5132\n",
      "Epoch 3/20\n",
      "27228/27228 [==============================] - 28s 1ms/step - loss: 1.1873 - acc: 0.5229 - val_loss: 1.2130 - val_acc: 0.5141\n",
      "Epoch 4/20\n",
      "27228/27228 [==============================] - 28s 1ms/step - loss: 1.1508 - acc: 0.5391 - val_loss: 1.1552 - val_acc: 0.5367\n",
      "Epoch 5/20\n",
      "27228/27228 [==============================] - 27s 1ms/step - loss: 1.1143 - acc: 0.5536 - val_loss: 1.1747 - val_acc: 0.5304\n",
      "Epoch 6/20\n",
      "27228/27228 [==============================] - 28s 1ms/step - loss: 1.0740 - acc: 0.5713 - val_loss: 1.1845 - val_acc: 0.5253\n",
      "Epoch 7/20\n",
      "27228/27228 [==============================] - 31s 1ms/step - loss: 1.0332 - acc: 0.5916 - val_loss: 1.1201 - val_acc: 0.5548\n",
      "Epoch 8/20\n",
      "27228/27228 [==============================] - 28s 1ms/step - loss: 0.9855 - acc: 0.6080 - val_loss: 1.1521 - val_acc: 0.5501\n",
      "Epoch 9/20\n",
      "27228/27228 [==============================] - 28s 1ms/step - loss: 0.9306 - acc: 0.6321 - val_loss: 1.1514 - val_acc: 0.5570\n",
      "Epoch 10/20\n",
      "27228/27228 [==============================] - 28s 1ms/step - loss: 0.8667 - acc: 0.6611 - val_loss: 1.1747 - val_acc: 0.5532\n",
      "Epoch 11/20\n",
      "27228/27228 [==============================] - 28s 1ms/step - loss: 0.7984 - acc: 0.6905 - val_loss: 1.2015 - val_acc: 0.5543\n",
      "Epoch 12/20\n",
      "27228/27228 [==============================] - 28s 1ms/step - loss: 0.7194 - acc: 0.7240 - val_loss: 1.2231 - val_acc: 0.5598\n",
      "Epoch 13/20\n",
      "27228/27228 [==============================] - 28s 1ms/step - loss: 0.6359 - acc: 0.7554 - val_loss: 1.3330 - val_acc: 0.5655\n",
      "Epoch 14/20\n",
      "27228/27228 [==============================] - 28s 1ms/step - loss: 0.5518 - acc: 0.7933 - val_loss: 1.4433 - val_acc: 0.5736\n",
      "Epoch 15/20\n",
      "27228/27228 [==============================] - 27s 1ms/step - loss: 0.4776 - acc: 0.8179 - val_loss: 1.4864 - val_acc: 0.5726\n",
      "Epoch 16/20\n",
      "27228/27228 [==============================] - 28s 1ms/step - loss: 0.4075 - acc: 0.8488 - val_loss: 1.6893 - val_acc: 0.5598\n",
      "Epoch 17/20\n",
      "27228/27228 [==============================] - 28s 1ms/step - loss: 0.3490 - acc: 0.8720 - val_loss: 1.7013 - val_acc: 0.5721\n",
      "Epoch 18/20\n",
      "27228/27228 [==============================] - 28s 1ms/step - loss: 0.2957 - acc: 0.8903 - val_loss: 1.8911 - val_acc: 0.5711\n",
      "Epoch 19/20\n",
      "27228/27228 [==============================] - 28s 1ms/step - loss: 0.2528 - acc: 0.9100 - val_loss: 1.9890 - val_acc: 0.5770\n",
      "Epoch 20/20\n",
      "27228/27228 [==============================] - 28s 1ms/step - loss: 0.2204 - acc: 0.9213 - val_loss: 2.1200 - val_acc: 0.5742\n"
     ]
    }
   ],
   "source": [
    "# Train the Model\n",
    "history = model.fit(X_train, y_train,\n",
    "                    epochs=20,\n",
    "                    batch_size=128,\n",
    "                    validation_split=0.2)"
   ]
  },
  {
   "cell_type": "code",
   "execution_count": 60,
   "metadata": {},
   "outputs": [
    {
     "data": {
      "image/png": "[encoded data removed]",
      "text/plain": [
       "<Figure size 432x288 with 1 Axes>"
      ]
     },
     "metadata": {
      "needs_background": "light"
     },
     "output_type": "display_data"
    },
    {
     "data": {
      "image/png": "[encoded data removed]",
      "text/plain": [
       "<Figure size 432x288 with 1 Axes>"
      ]
     },
     "metadata": {
      "needs_background": "light"
     },
     "output_type": "display_data"
    }
   ],
   "source": [
    "# Plot the Training and Validation Accuracy & Loss Scores\n",
    "%matplotlib inline\n",
    "\n",
    "acc = history.history['acc']\n",
    "val_acc = history.history['val_acc']\n",
    "loss = history.history['loss']\n",
    "val_loss = history.history['val_loss']\n",
    "\n",
    "epochs = range(len(acc))\n",
    "\n",
    "plt.plot(epochs, acc, 'bo', label='Training acc')\n",
    "plt.plot(epochs, val_acc, 'b', label='Validation acc')\n",
    "plt.title('Training and validation accuracy')\n",
    "plt.legend()\n",
    "\n",
    "plt.figure()\n",
    "\n",
    "plt.plot(epochs, loss, 'bo', label='Training loss')\n",
    "plt.plot(epochs, val_loss, 'b', label='Validation loss')\n",
    "plt.title('Training and validation loss')\n",
    "plt.legend()\n",
    "\n",
    "plt.show()"
   ]
  },
  {
   "cell_type": "markdown",
   "metadata": {},
   "source": [
    "### Fine Tuning"
   ]
  },
  {
   "cell_type": "code",
   "execution_count": 22,
   "metadata": {},
   "outputs": [
    {
     "name": "stdout",
     "output_type": "stream",
     "text": [
      "_________________________________________________________________\n",
      "Layer (type)                 Output Shape              Param #   \n",
      "=================================================================\n",
      "embedding_3 (Embedding)      (None, 20, 50)            500000    \n",
      "_________________________________________________________________\n",
      "dropout_7 (Dropout)          (None, 20, 50)            0         \n",
      "_________________________________________________________________\n",
      "gru_3 (GRU)                  (None, 20, 256)           235776    \n",
      "_________________________________________________________________\n",
      "dropout_8 (Dropout)          (None, 20, 256)           0         \n",
      "_________________________________________________________________\n",
      "lstm_3 (LSTM)                (None, 256)               525312    \n",
      "_________________________________________________________________\n",
      "dropout_9 (Dropout)          (None, 256)               0         \n",
      "_________________________________________________________________\n",
      "dense_3 (Dense)              (None, 5)                 1285      \n",
      "=================================================================\n",
      "Total params: 1,262,373\n",
      "Trainable params: 1,262,373\n",
      "Non-trainable params: 0\n",
      "_________________________________________________________________\n"
     ]
    }
   ],
   "source": [
    "# Build the Model\n",
    "model = models.Sequential()\n",
    "# model.add(layers.Embedding(10000, 16, input_length=maxlen))\n",
    "model.add(layers.Embedding(max_words, embedding_dim, input_length=maxlen))\n",
    "model.add(layers.Dropout(0.3))\n",
    "# model.add(layers.LSTM(256, \n",
    "#                       return_sequences=True, \n",
    "#                       kernel_regularizer=regularizers.l2(0.01),\n",
    "#                       recurrent_regularizer=regularizers.l2(0.006),\n",
    "#                       recurrent_dropout=0.3))\n",
    "model.add(layers.GRU(256, \n",
    "                      return_sequences=True, \n",
    "                      kernel_regularizer=regularizers.l2(0.01),\n",
    "                      recurrent_regularizer=regularizers.l2(0.006),\n",
    "                      recurrent_dropout=0.3))\n",
    "model.add(layers.Dropout(0.3))\n",
    "model.add(layers.LSTM(256, \n",
    "                      kernel_regularizer=regularizers.l2(0.005), \n",
    "                      recurrent_regularizer=regularizers.l2(0.004),\n",
    "                      recurrent_dropout=0.3))\n",
    "model.add(layers.Dropout(0.3))\n",
    "model.add(layers.Dense(5, activation='softmax'))\n",
    "model.summary()"
   ]
  },
  {
   "cell_type": "code",
   "execution_count": 23,
   "metadata": {},
   "outputs": [],
   "source": [
    "model.layers[0].set_weights([embedding_matrix])\n",
    "model.layers[0].trainable = True"
   ]
  },
  {
   "cell_type": "code",
   "execution_count": 24,
   "metadata": {},
   "outputs": [],
   "source": [
    "model.compile(optimizer=optimizers.RMSprop(lr=0.001),\n",
    "              loss='sparse_categorical_crossentropy',\n",
    "              metrics=['acc'])"
   ]
  },
  {
   "cell_type": "code",
   "execution_count": 25,
   "metadata": {
    "scrolled": false
   },
   "outputs": [
    {
     "name": "stdout",
     "output_type": "stream",
     "text": [
      "Train on 27228 samples, validate on 6808 samples\n",
      "Epoch 1/40\n",
      "27228/27228 [==============================] - 20s 718us/step - loss: 1.9483 - acc: 0.4586 - val_loss: 1.3176 - val_acc: 0.5104\n",
      "Epoch 2/40\n",
      "27228/27228 [==============================] - 17s 626us/step - loss: 1.2911 - acc: 0.5058 - val_loss: 1.2356 - val_acc: 0.5358\n",
      "Epoch 3/40\n",
      "27228/27228 [==============================] - 17s 619us/step - loss: 1.2194 - acc: 0.5304 - val_loss: 1.2183 - val_acc: 0.5294\n",
      "Epoch 4/40\n",
      "27228/27228 [==============================] - 17s 617us/step - loss: 1.1662 - acc: 0.5486 - val_loss: 1.2008 - val_acc: 0.5294\n",
      "Epoch 5/40\n",
      "27228/27228 [==============================] - 17s 632us/step - loss: 1.1283 - acc: 0.5649 - val_loss: 1.1273 - val_acc: 0.5532\n",
      "Epoch 6/40\n",
      "27228/27228 [==============================] - 18s 644us/step - loss: 1.1004 - acc: 0.5753 - val_loss: 1.0829 - val_acc: 0.5781\n",
      "Epoch 7/40\n",
      "27228/27228 [==============================] - 16s 604us/step - loss: 1.0739 - acc: 0.5880 - val_loss: 1.0673 - val_acc: 0.5818\n",
      "Epoch 8/40\n",
      "27228/27228 [==============================] - 17s 636us/step - loss: 1.0529 - acc: 0.5932 - val_loss: 1.0653 - val_acc: 0.5930\n",
      "Epoch 9/40\n",
      "27228/27228 [==============================] - 17s 633us/step - loss: 1.0344 - acc: 0.6002 - val_loss: 1.0452 - val_acc: 0.5944\n",
      "Epoch 10/40\n",
      "27228/27228 [==============================] - 17s 614us/step - loss: 1.0204 - acc: 0.6096 - val_loss: 1.0569 - val_acc: 0.5937\n",
      "Epoch 11/40\n",
      "27228/27228 [==============================] - 18s 660us/step - loss: 1.0045 - acc: 0.6170 - val_loss: 1.0396 - val_acc: 0.5981\n",
      "Epoch 12/40\n",
      "27228/27228 [==============================] - 18s 643us/step - loss: 0.9958 - acc: 0.6200 - val_loss: 1.0648 - val_acc: 0.5873\n",
      "Epoch 13/40\n",
      "27228/27228 [==============================] - 17s 618us/step - loss: 0.9783 - acc: 0.6269 - val_loss: 1.0333 - val_acc: 0.6006\n",
      "Epoch 14/40\n",
      "27228/27228 [==============================] - 17s 639us/step - loss: 0.9668 - acc: 0.6346 - val_loss: 1.0356 - val_acc: 0.6075\n",
      "Epoch 15/40\n",
      "27228/27228 [==============================] - 17s 628us/step - loss: 0.9578 - acc: 0.6428 - val_loss: 1.0370 - val_acc: 0.6055\n",
      "Epoch 16/40\n",
      "27228/27228 [==============================] - 18s 666us/step - loss: 0.9490 - acc: 0.6417 - val_loss: 1.0174 - val_acc: 0.6094\n",
      "Epoch 17/40\n",
      "27228/27228 [==============================] - 18s 666us/step - loss: 0.9344 - acc: 0.6494 - val_loss: 1.0200 - val_acc: 0.6171\n",
      "Epoch 18/40\n",
      "27228/27228 [==============================] - 17s 632us/step - loss: 0.9274 - acc: 0.6524 - val_loss: 1.0228 - val_acc: 0.6036\n",
      "Epoch 19/40\n",
      "27228/27228 [==============================] - 18s 651us/step - loss: 0.9153 - acc: 0.6597 - val_loss: 1.0128 - val_acc: 0.6038\n",
      "Epoch 20/40\n",
      "27228/27228 [==============================] - 18s 643us/step - loss: 0.9082 - acc: 0.6633 - val_loss: 1.0410 - val_acc: 0.6040\n",
      "Epoch 21/40\n",
      "27228/27228 [==============================] - 17s 618us/step - loss: 0.9014 - acc: 0.6667 - val_loss: 1.0046 - val_acc: 0.6147\n",
      "Epoch 22/40\n",
      "27228/27228 [==============================] - 17s 613us/step - loss: 0.8921 - acc: 0.6733 - val_loss: 1.0115 - val_acc: 0.6102\n",
      "Epoch 23/40\n",
      "27228/27228 [==============================] - 18s 646us/step - loss: 0.8801 - acc: 0.6755 - val_loss: 1.0049 - val_acc: 0.6225\n",
      "Epoch 24/40\n",
      "27228/27228 [==============================] - 18s 675us/step - loss: 0.8758 - acc: 0.6760 - val_loss: 0.9924 - val_acc: 0.6210\n",
      "Epoch 25/40\n",
      "27228/27228 [==============================] - 17s 637us/step - loss: 0.8645 - acc: 0.6816 - val_loss: 1.0027 - val_acc: 0.6146\n",
      "Epoch 26/40\n",
      "27228/27228 [==============================] - 18s 668us/step - loss: 0.8582 - acc: 0.6854 - val_loss: 0.9978 - val_acc: 0.6260\n",
      "Epoch 27/40\n",
      "27228/27228 [==============================] - 18s 665us/step - loss: 0.8547 - acc: 0.6877 - val_loss: 1.0093 - val_acc: 0.6212\n",
      "Epoch 28/40\n",
      "27228/27228 [==============================] - 17s 627us/step - loss: 0.8458 - acc: 0.6923 - val_loss: 1.0140 - val_acc: 0.6153\n",
      "Epoch 29/40\n",
      "27228/27228 [==============================] - 18s 655us/step - loss: 0.8409 - acc: 0.6939 - val_loss: 0.9859 - val_acc: 0.6221\n",
      "Epoch 30/40\n",
      "27228/27228 [==============================] - 17s 630us/step - loss: 0.8309 - acc: 0.6977 - val_loss: 1.0016 - val_acc: 0.6276\n",
      "Epoch 31/40\n",
      "27228/27228 [==============================] - 18s 657us/step - loss: 0.8233 - acc: 0.7004 - val_loss: 1.0126 - val_acc: 0.6094\n",
      "Epoch 32/40\n",
      "27228/27228 [==============================] - 18s 659us/step - loss: 0.8180 - acc: 0.7032 - val_loss: 0.9968 - val_acc: 0.6243\n",
      "Epoch 33/40\n",
      "27228/27228 [==============================] - 17s 616us/step - loss: 0.8111 - acc: 0.7057 - val_loss: 1.0161 - val_acc: 0.6150\n",
      "Epoch 34/40\n",
      "27228/27228 [==============================] - 17s 617us/step - loss: 0.8072 - acc: 0.7086 - val_loss: 1.0094 - val_acc: 0.6152\n",
      "Epoch 35/40\n",
      "27228/27228 [==============================] - 18s 674us/step - loss: 0.7993 - acc: 0.7146 - val_loss: 1.0147 - val_acc: 0.6141\n",
      "Epoch 36/40\n",
      "27228/27228 [==============================] - 18s 643us/step - loss: 0.7957 - acc: 0.7137 - val_loss: 1.0180 - val_acc: 0.6190\n",
      "Epoch 37/40\n",
      "27228/27228 [==============================] - 17s 635us/step - loss: 0.7897 - acc: 0.7153 - val_loss: 0.9976 - val_acc: 0.6259\n",
      "Epoch 38/40\n",
      "27228/27228 [==============================] - 18s 656us/step - loss: 0.7834 - acc: 0.7208 - val_loss: 1.0036 - val_acc: 0.6257\n",
      "Epoch 39/40\n",
      "27228/27228 [==============================] - 18s 665us/step - loss: 0.7782 - acc: 0.7208 - val_loss: 1.0009 - val_acc: 0.6290\n",
      "Epoch 40/40\n",
      "27228/27228 [==============================] - 17s 632us/step - loss: 0.7705 - acc: 0.7253 - val_loss: 0.9958 - val_acc: 0.6310\n"
     ]
    }
   ],
   "source": [
    "# Train the Model\n",
    "history = model.fit(X_train, y_train,\n",
    "                    epochs=40,\n",
    "                    batch_size=128,\n",
    "                    validation_split=0.2)"
   ]
  },
  {
   "cell_type": "code",
   "execution_count": 26,
   "metadata": {},
   "outputs": [
    {
     "data": {
      "image/png": "[encoded data removed]",
      "text/plain": [
       "<Figure size 432x288 with 1 Axes>"
      ]
     },
     "metadata": {
      "needs_background": "light"
     },
     "output_type": "display_data"
    },
    {
     "data": {
      "image/png": "[encoded data removed]",
      "text/plain": [
       "<Figure size 432x288 with 1 Axes>"
      ]
     },
     "metadata": {
      "needs_background": "light"
     },
     "output_type": "display_data"
    }
   ],
   "source": [
    "# Plot the Training and Validation Accuracy & Loss Scores\n",
    "%matplotlib inline\n",
    "\n",
    "acc = history.history['acc']\n",
    "val_acc = history.history['val_acc']\n",
    "loss = history.history['loss']\n",
    "val_loss = history.history['val_loss']\n",
    "\n",
    "epochs = range(len(acc))\n",
    "\n",
    "plt.plot(epochs, acc, 'bo', label='Training acc')\n",
    "plt.plot(epochs, val_acc, 'b', label='Validation acc')\n",
    "plt.title('Training and validation accuracy')\n",
    "plt.legend()\n",
    "\n",
    "plt.figure()\n",
    "\n",
    "plt.plot(epochs, loss, 'bo', label='Training loss')\n",
    "plt.plot(epochs, val_loss, 'b', label='Validation loss')\n",
    "plt.title('Training and validation loss')\n",
    "plt.legend()\n",
    "\n",
    "plt.show()"
   ]
  },
  {
   "cell_type": "markdown",
   "metadata": {},
   "source": [
    "### Findings\n",
    "* L1 Regularizer is pretty much shifting the weights too much such that the loss value starts off very high. If added on second layer, it somehow helps abit.\n",
    "* L2 Regularizer is more or less perfect for LSTM as it does not adjust the weights too much. Increasing more reduces overfitting. It does not work well if added to second LSTM layer.\n",
    "* Dropout seems pretty useful here as well"
   ]
  },
  {
   "cell_type": "code",
   "execution_count": 27,
   "metadata": {},
   "outputs": [],
   "source": [
    "# Save the Model\n",
    "model.save('text_model_1.h5')"
   ]
  },
  {
   "cell_type": "markdown",
   "metadata": {},
   "source": [
    "### Model#2 (Student Name: XXXX)"
   ]
  },
  {
   "cell_type": "markdown",
   "metadata": {},
   "source": [
    "### Underfit"
   ]
  },
  {
   "cell_type": "code",
   "execution_count": 66,
   "metadata": {},
   "outputs": [
    {
     "name": "stdout",
     "output_type": "stream",
     "text": [
      "_________________________________________________________________\n",
      "Layer (type)                 Output Shape              Param #   \n",
      "=================================================================\n",
      "embedding_10 (Embedding)     (None, 20, 50)            500000    \n",
      "_________________________________________________________________\n",
      "gru_3 (GRU)                  (None, 20, 32)            7968      \n",
      "_________________________________________________________________\n",
      "gru_4 (GRU)                  (None, 32)                6240      \n",
      "_________________________________________________________________\n",
      "dense_10 (Dense)             (None, 5)                 165       \n",
      "=================================================================\n",
      "Total params: 514,373\n",
      "Trainable params: 514,373\n",
      "Non-trainable params: 0\n",
      "_________________________________________________________________\n"
     ]
    }
   ],
   "source": [
    "# Build the Model\n",
    "model = models.Sequential()\n",
    "# model.add(layers.Embedding(10000, 16, input_length=maxlen))\n",
    "model.add(layers.Embedding(max_words, embedding_dim, input_length=maxlen))\n",
    "model.add(layers.GRU(32, return_sequences=True))\n",
    "model.add(layers.GRU(32))\n",
    "model.add(layers.Dense(5, activation='softmax'))\n",
    "model.summary()"
   ]
  },
  {
   "cell_type": "code",
   "execution_count": 67,
   "metadata": {},
   "outputs": [],
   "source": [
    "model.layers[0].set_weights([embedding_matrix])\n",
    "model.layers[0].trainable = False "
   ]
  },
  {
   "cell_type": "code",
   "execution_count": 68,
   "metadata": {},
   "outputs": [],
   "source": [
    "model.compile(optimizer='rmsprop',\n",
    "              loss='sparse_categorical_crossentropy',\n",
    "              metrics=['acc'])"
   ]
  },
  {
   "cell_type": "code",
   "execution_count": 69,
   "metadata": {},
   "outputs": [
    {
     "name": "stdout",
     "output_type": "stream",
     "text": [
      "Train on 27228 samples, validate on 6808 samples\n",
      "Epoch 1/20\n",
      "27228/27228 [==============================] - 15s 534us/step - loss: 1.3203 - acc: 0.4579 - val_loss: 1.2511 - val_acc: 0.4884\n",
      "Epoch 2/20\n",
      "27228/27228 [==============================] - 11s 417us/step - loss: 1.2322 - acc: 0.4989 - val_loss: 1.2132 - val_acc: 0.5043\n",
      "Epoch 3/20\n",
      "27228/27228 [==============================] - 11s 419us/step - loss: 1.2003 - acc: 0.5148 - val_loss: 1.1955 - val_acc: 0.5151\n",
      "Epoch 4/20\n",
      "27228/27228 [==============================] - 12s 424us/step - loss: 1.1777 - acc: 0.5273 - val_loss: 1.1745 - val_acc: 0.5210\n",
      "Epoch 5/20\n",
      "27228/27228 [==============================] - 11s 422us/step - loss: 1.1602 - acc: 0.5356 - val_loss: 1.2017 - val_acc: 0.5071\n",
      "Epoch 6/20\n",
      "27228/27228 [==============================] - 12s 427us/step - loss: 1.1466 - acc: 0.5407 - val_loss: 1.1600 - val_acc: 0.5348\n",
      "Epoch 7/20\n",
      "27228/27228 [==============================] - 12s 433us/step - loss: 1.1346 - acc: 0.5446 - val_loss: 1.1563 - val_acc: 0.5325\n",
      "Epoch 8/20\n",
      "27228/27228 [==============================] - 12s 426us/step - loss: 1.1206 - acc: 0.5518 - val_loss: 1.1558 - val_acc: 0.5336\n",
      "Epoch 9/20\n",
      "27228/27228 [==============================] - 11s 420us/step - loss: 1.1107 - acc: 0.5553 - val_loss: 1.1443 - val_acc: 0.5344\n",
      "Epoch 10/20\n",
      "27228/27228 [==============================] - 12s 431us/step - loss: 1.1004 - acc: 0.5583 - val_loss: 1.1421 - val_acc: 0.5385\n",
      "Epoch 11/20\n",
      "27228/27228 [==============================] - 12s 428us/step - loss: 1.0903 - acc: 0.5648 - val_loss: 1.1431 - val_acc: 0.5391\n",
      "Epoch 12/20\n",
      "27228/27228 [==============================] - 12s 431us/step - loss: 1.0819 - acc: 0.5706 - val_loss: 1.1328 - val_acc: 0.5467\n",
      "Epoch 13/20\n",
      "27228/27228 [==============================] - 12s 426us/step - loss: 1.0734 - acc: 0.5726 - val_loss: 1.1386 - val_acc: 0.5357\n",
      "Epoch 14/20\n",
      "27228/27228 [==============================] - 12s 423us/step - loss: 1.0659 - acc: 0.5775 - val_loss: 1.1236 - val_acc: 0.5521\n",
      "Epoch 15/20\n",
      "27228/27228 [==============================] - 12s 430us/step - loss: 1.0577 - acc: 0.5810 - val_loss: 1.1226 - val_acc: 0.5545\n",
      "Epoch 16/20\n",
      "27228/27228 [==============================] - 12s 425us/step - loss: 1.0516 - acc: 0.5819 - val_loss: 1.1203 - val_acc: 0.5561\n",
      "Epoch 17/20\n",
      "27228/27228 [==============================] - 12s 426us/step - loss: 1.0437 - acc: 0.5867 - val_loss: 1.1199 - val_acc: 0.5538\n",
      "Epoch 18/20\n",
      "27228/27228 [==============================] - 11s 420us/step - loss: 1.0366 - acc: 0.5890 - val_loss: 1.1169 - val_acc: 0.5524\n",
      "Epoch 19/20\n",
      "27228/27228 [==============================] - 11s 416us/step - loss: 1.0295 - acc: 0.5935 - val_loss: 1.1317 - val_acc: 0.5442\n",
      "Epoch 20/20\n",
      "27228/27228 [==============================] - 11s 417us/step - loss: 1.0232 - acc: 0.5945 - val_loss: 1.1175 - val_acc: 0.5595\n"
     ]
    }
   ],
   "source": [
    "# Train the Model\n",
    "history = model.fit(X_train, y_train,\n",
    "                    epochs=20,\n",
    "                    batch_size=128,\n",
    "                    validation_split=0.2)"
   ]
  },
  {
   "cell_type": "code",
   "execution_count": 70,
   "metadata": {},
   "outputs": [
    {
     "data": {
      "image/png": "[encoded data removed]",
      "text/plain": [
       "<Figure size 432x288 with 1 Axes>"
      ]
     },
     "metadata": {
      "needs_background": "light"
     },
     "output_type": "display_data"
    },
    {
     "data": {
      "image/png": "[encoded data removed]",
      "text/plain": [
       "<Figure size 432x288 with 1 Axes>"
      ]
     },
     "metadata": {
      "needs_background": "light"
     },
     "output_type": "display_data"
    }
   ],
   "source": [
    "# Plot the Training and Validation Accuracy & Loss Scores\n",
    "%matplotlib inline\n",
    "\n",
    "acc = history.history['acc']\n",
    "val_acc = history.history['val_acc']\n",
    "loss = history.history['loss']\n",
    "val_loss = history.history['val_loss']\n",
    "\n",
    "epochs = range(len(acc))\n",
    "\n",
    "plt.plot(epochs, acc, 'bo', label='Training acc')\n",
    "plt.plot(epochs, val_acc, 'b', label='Validation acc')\n",
    "plt.title('Training and validation accuracy')\n",
    "plt.legend()\n",
    "\n",
    "plt.figure()\n",
    "\n",
    "plt.plot(epochs, loss, 'bo', label='Training loss')\n",
    "plt.plot(epochs, val_loss, 'b', label='Validation loss')\n",
    "plt.title('Training and validation loss')\n",
    "plt.legend()\n",
    "\n",
    "plt.show()"
   ]
  },
  {
   "cell_type": "markdown",
   "metadata": {},
   "source": [
    "### Overfit"
   ]
  },
  {
   "cell_type": "code",
   "execution_count": 71,
   "metadata": {},
   "outputs": [
    {
     "name": "stdout",
     "output_type": "stream",
     "text": [
      "_________________________________________________________________\n",
      "Layer (type)                 Output Shape              Param #   \n",
      "=================================================================\n",
      "embedding_11 (Embedding)     (None, 20, 50)            500000    \n",
      "_________________________________________________________________\n",
      "gru_5 (GRU)                  (None, 20, 256)           235776    \n",
      "_________________________________________________________________\n",
      "gru_6 (GRU)                  (None, 256)               393984    \n",
      "_________________________________________________________________\n",
      "dense_11 (Dense)             (None, 5)                 1285      \n",
      "=================================================================\n",
      "Total params: 1,131,045\n",
      "Trainable params: 1,131,045\n",
      "Non-trainable params: 0\n",
      "_________________________________________________________________\n"
     ]
    }
   ],
   "source": [
    "# Build the Model\n",
    "model = models.Sequential()\n",
    "# model.add(layers.Embedding(10000, 16, input_length=maxlen))\n",
    "model.add(layers.Embedding(max_words, embedding_dim, input_length=maxlen))\n",
    "model.add(layers.GRU(256, return_sequences=True))\n",
    "model.add(layers.GRU(256))\n",
    "model.add(layers.Dense(5, activation='softmax'))\n",
    "model.summary()"
   ]
  },
  {
   "cell_type": "code",
   "execution_count": 72,
   "metadata": {},
   "outputs": [],
   "source": [
    "model.layers[0].set_weights([embedding_matrix])\n",
    "model.layers[0].trainable = False "
   ]
  },
  {
   "cell_type": "code",
   "execution_count": 73,
   "metadata": {},
   "outputs": [],
   "source": [
    "model.compile(optimizer='rmsprop',\n",
    "              loss='sparse_categorical_crossentropy',\n",
    "              metrics=['acc'])"
   ]
  },
  {
   "cell_type": "code",
   "execution_count": 74,
   "metadata": {},
   "outputs": [
    {
     "name": "stdout",
     "output_type": "stream",
     "text": [
      "Train on 27228 samples, validate on 6808 samples\n",
      "Epoch 1/20\n",
      "27228/27228 [==============================] - 26s 938us/step - loss: 1.2960 - acc: 0.4699 - val_loss: 1.2554 - val_acc: 0.4858\n",
      "Epoch 2/20\n",
      "27228/27228 [==============================] - 23s 831us/step - loss: 1.2058 - acc: 0.5139 - val_loss: 1.1865 - val_acc: 0.5261\n",
      "Epoch 3/20\n",
      "27228/27228 [==============================] - 23s 828us/step - loss: 1.1513 - acc: 0.5369 - val_loss: 1.1481 - val_acc: 0.5311\n",
      "Epoch 4/20\n",
      "27228/27228 [==============================] - 23s 828us/step - loss: 1.1058 - acc: 0.5576 - val_loss: 1.1263 - val_acc: 0.5460\n",
      "Epoch 5/20\n",
      "27228/27228 [==============================] - 23s 827us/step - loss: 1.0546 - acc: 0.5793 - val_loss: 1.1439 - val_acc: 0.5438\n",
      "Epoch 6/20\n",
      "27228/27228 [==============================] - 22s 824us/step - loss: 1.0000 - acc: 0.6046 - val_loss: 1.1117 - val_acc: 0.5632\n",
      "Epoch 7/20\n",
      "27228/27228 [==============================] - 22s 824us/step - loss: 0.9332 - acc: 0.6341 - val_loss: 1.1191 - val_acc: 0.5558\n",
      "Epoch 8/20\n",
      "27228/27228 [==============================] - 23s 827us/step - loss: 0.8545 - acc: 0.6695 - val_loss: 1.1783 - val_acc: 0.5635\n",
      "Epoch 9/20\n",
      "27228/27228 [==============================] - 22s 826us/step - loss: 0.7573 - acc: 0.7109 - val_loss: 1.1902 - val_acc: 0.5611\n",
      "Epoch 10/20\n",
      "27228/27228 [==============================] - 22s 826us/step - loss: 0.6518 - acc: 0.7552 - val_loss: 1.2361 - val_acc: 0.5726\n",
      "Epoch 11/20\n",
      "27228/27228 [==============================] - 23s 827us/step - loss: 0.5385 - acc: 0.8026 - val_loss: 1.4037 - val_acc: 0.5626\n",
      "Epoch 12/20\n",
      "27228/27228 [==============================] - 22s 826us/step - loss: 0.4235 - acc: 0.8464 - val_loss: 1.5189 - val_acc: 0.5784\n",
      "Epoch 13/20\n",
      "27228/27228 [==============================] - 22s 825us/step - loss: 0.3202 - acc: 0.8857 - val_loss: 1.6781 - val_acc: 0.5909\n",
      "Epoch 14/20\n",
      "27228/27228 [==============================] - 23s 826us/step - loss: 0.2365 - acc: 0.9197 - val_loss: 1.8477 - val_acc: 0.5850\n",
      "Epoch 15/20\n",
      "27228/27228 [==============================] - 23s 827us/step - loss: 0.1726 - acc: 0.9433 - val_loss: 2.0275 - val_acc: 0.6015\n",
      "Epoch 16/20\n",
      "27228/27228 [==============================] - 22s 826us/step - loss: 0.1312 - acc: 0.9572 - val_loss: 2.2245 - val_acc: 0.5927\n",
      "Epoch 17/20\n",
      "27228/27228 [==============================] - 23s 828us/step - loss: 0.1074 - acc: 0.9666 - val_loss: 2.3448 - val_acc: 0.5873\n",
      "Epoch 18/20\n",
      "27228/27228 [==============================] - 23s 826us/step - loss: 0.0896 - acc: 0.9717 - val_loss: 2.5229 - val_acc: 0.5903\n",
      "Epoch 19/20\n",
      "27228/27228 [==============================] - 23s 828us/step - loss: 0.0789 - acc: 0.9765 - val_loss: 2.5597 - val_acc: 0.5977\n",
      "Epoch 20/20\n",
      "27228/27228 [==============================] - 23s 827us/step - loss: 0.0710 - acc: 0.9781 - val_loss: 2.6386 - val_acc: 0.5978\n"
     ]
    }
   ],
   "source": [
    "# Train the Model\n",
    "history = model.fit(X_train, y_train,\n",
    "                    epochs=20,\n",
    "                    batch_size=128,\n",
    "                    validation_split=0.2)"
   ]
  },
  {
   "cell_type": "code",
   "execution_count": 75,
   "metadata": {},
   "outputs": [
    {
     "data": {
      "image/png": "[encoded data removed]",
      "text/plain": [
       "<Figure size 432x288 with 1 Axes>"
      ]
     },
     "metadata": {
      "needs_background": "light"
     },
     "output_type": "display_data"
    },
    {
     "data": {
      "image/png": "[encoded data removed]",
      "text/plain": [
       "<Figure size 432x288 with 1 Axes>"
      ]
     },
     "metadata": {
      "needs_background": "light"
     },
     "output_type": "display_data"
    }
   ],
   "source": [
    "# Plot the Training and Validation Accuracy & Loss Scores\n",
    "%matplotlib inline\n",
    "\n",
    "acc = history.history['acc']\n",
    "val_acc = history.history['val_acc']\n",
    "loss = history.history['loss']\n",
    "val_loss = history.history['val_loss']\n",
    "\n",
    "epochs = range(len(acc))\n",
    "\n",
    "plt.plot(epochs, acc, 'bo', label='Training acc')\n",
    "plt.plot(epochs, val_acc, 'b', label='Validation acc')\n",
    "plt.title('Training and validation accuracy')\n",
    "plt.legend()\n",
    "\n",
    "plt.figure()\n",
    "\n",
    "plt.plot(epochs, loss, 'bo', label='Training loss')\n",
    "plt.plot(epochs, val_loss, 'b', label='Validation loss')\n",
    "plt.title('Training and validation loss')\n",
    "plt.legend()\n",
    "\n",
    "plt.show()"
   ]
  },
  {
   "cell_type": "markdown",
   "metadata": {},
   "source": [
    "### Fine Tuning"
   ]
  },
  {
   "cell_type": "code",
   "execution_count": 107,
   "metadata": {},
   "outputs": [
    {
     "name": "stdout",
     "output_type": "stream",
     "text": [
      "_________________________________________________________________\n",
      "Layer (type)                 Output Shape              Param #   \n",
      "=================================================================\n",
      "embedding_24 (Embedding)     (None, 20, 50)            500000    \n",
      "_________________________________________________________________\n",
      "dropout_70 (Dropout)         (None, 20, 50)            0         \n",
      "_________________________________________________________________\n",
      "gru_21 (GRU)                 (None, 20, 256)           235776    \n",
      "_________________________________________________________________\n",
      "dropout_71 (Dropout)         (None, 20, 256)           0         \n",
      "_________________________________________________________________\n",
      "gru_22 (GRU)                 (None, 256)               393984    \n",
      "_________________________________________________________________\n",
      "dropout_72 (Dropout)         (None, 256)               0         \n",
      "_________________________________________________________________\n",
      "dense_26 (Dense)             (None, 5)                 1285      \n",
      "=================================================================\n",
      "Total params: 1,131,045\n",
      "Trainable params: 1,131,045\n",
      "Non-trainable params: 0\n",
      "_________________________________________________________________\n"
     ]
    }
   ],
   "source": [
    "# Build the Model\n",
    "model = models.Sequential()\n",
    "# model.add(layers.Embedding(10000, 16, input_length=maxlen))\n",
    "model.add(layers.Embedding(max_words, embedding_dim, input_length=maxlen))\n",
    "model.add(layers.Dropout(0.2))\n",
    "model.add(layers.GRU(256, \n",
    "                     return_sequences=True,\n",
    "                     kernel_regularizer=regularizers.l2(0.01),\n",
    "                     recurrent_regularizer=regularizers.l2(0.005),\n",
    "                     recurrent_dropout=0.3))\n",
    "model.add(layers.Dropout(0.2))\n",
    "model.add(layers.GRU(256, \n",
    "                     recurrent_dropout=0.2))\n",
    "model.add(layers.Dropout(0.2))\n",
    "model.add(layers.Dense(5, activation='softmax'))\n",
    "model.summary()"
   ]
  },
  {
   "cell_type": "code",
   "execution_count": 108,
   "metadata": {},
   "outputs": [],
   "source": [
    "model.layers[0].set_weights([embedding_matrix])\n",
    "model.layers[0].trainable = True "
   ]
  },
  {
   "cell_type": "code",
   "execution_count": 109,
   "metadata": {},
   "outputs": [],
   "source": [
    "model.compile(optimizer=optimizers.RMSprop(lr=0.0007),\n",
    "              loss='sparse_categorical_crossentropy',\n",
    "              metrics=['acc'])"
   ]
  },
  {
   "cell_type": "code",
   "execution_count": 110,
   "metadata": {},
   "outputs": [
    {
     "name": "stdout",
     "output_type": "stream",
     "text": [
      "Train on 27228 samples, validate on 6808 samples\n",
      "Epoch 1/50\n",
      "27228/27228 [==============================] - 24s 878us/step - loss: 1.7290 - acc: 0.4646 - val_loss: 1.3193 - val_acc: 0.4909\n",
      "Epoch 2/50\n",
      "27228/27228 [==============================] - 16s 571us/step - loss: 1.2681 - acc: 0.5144 - val_loss: 1.1977 - val_acc: 0.5355\n",
      "Epoch 3/50\n",
      "27228/27228 [==============================] - 15s 563us/step - loss: 1.1626 - acc: 0.5474 - val_loss: 1.1037 - val_acc: 0.5608\n",
      "Epoch 4/50\n",
      "27228/27228 [==============================] - 16s 574us/step - loss: 1.0915 - acc: 0.5653 - val_loss: 1.0470 - val_acc: 0.5817\n",
      "Epoch 5/50\n",
      "27228/27228 [==============================] - 16s 579us/step - loss: 1.0517 - acc: 0.5793 - val_loss: 1.0304 - val_acc: 0.5922\n",
      "Epoch 6/50\n",
      "27228/27228 [==============================] - 17s 612us/step - loss: 1.0240 - acc: 0.5903 - val_loss: 1.0351 - val_acc: 0.5842\n",
      "Epoch 7/50\n",
      "27228/27228 [==============================] - 16s 603us/step - loss: 1.0030 - acc: 0.6015 - val_loss: 1.0125 - val_acc: 0.5990\n",
      "Epoch 8/50\n",
      "27228/27228 [==============================] - 17s 626us/step - loss: 0.9833 - acc: 0.6083 - val_loss: 0.9954 - val_acc: 0.6038\n",
      "Epoch 9/50\n",
      "27228/27228 [==============================] - 16s 597us/step - loss: 0.9639 - acc: 0.6165 - val_loss: 1.0048 - val_acc: 0.5971\n",
      "Epoch 10/50\n",
      "27228/27228 [==============================] - 16s 577us/step - loss: 0.9516 - acc: 0.6251 - val_loss: 0.9803 - val_acc: 0.6157\n",
      "Epoch 11/50\n",
      "27228/27228 [==============================] - 16s 572us/step - loss: 0.9385 - acc: 0.6316 - val_loss: 0.9917 - val_acc: 0.6061\n",
      "Epoch 12/50\n",
      "27228/27228 [==============================] - 16s 583us/step - loss: 0.9243 - acc: 0.6396 - val_loss: 1.0011 - val_acc: 0.6090\n",
      "Epoch 13/50\n",
      "27228/27228 [==============================] - 17s 610us/step - loss: 0.9083 - acc: 0.6441 - val_loss: 0.9799 - val_acc: 0.6146\n",
      "Epoch 14/50\n",
      "27228/27228 [==============================] - 17s 615us/step - loss: 0.8959 - acc: 0.6535 - val_loss: 0.9693 - val_acc: 0.6209\n",
      "Epoch 15/50\n",
      "27228/27228 [==============================] - 17s 622us/step - loss: 0.8839 - acc: 0.6589 - val_loss: 0.9599 - val_acc: 0.6256\n",
      "Epoch 16/50\n",
      "27228/27228 [==============================] - 17s 630us/step - loss: 0.8702 - acc: 0.6649 - val_loss: 0.9623 - val_acc: 0.6250\n",
      "Epoch 17/50\n",
      "27228/27228 [==============================] - 18s 653us/step - loss: 0.8631 - acc: 0.6686 - val_loss: 0.9707 - val_acc: 0.6181\n",
      "Epoch 18/50\n",
      "27228/27228 [==============================] - 18s 659us/step - loss: 0.8517 - acc: 0.6778 - val_loss: 0.9578 - val_acc: 0.6249\n",
      "Epoch 19/50\n",
      "27228/27228 [==============================] - 18s 679us/step - loss: 0.8421 - acc: 0.6809 - val_loss: 0.9643 - val_acc: 0.6244\n",
      "Epoch 20/50\n",
      "27228/27228 [==============================] - 17s 630us/step - loss: 0.8275 - acc: 0.6876 - val_loss: 0.9629 - val_acc: 0.6232\n",
      "Epoch 21/50\n",
      "27228/27228 [==============================] - 17s 606us/step - loss: 0.8164 - acc: 0.6927 - val_loss: 1.0013 - val_acc: 0.6021\n",
      "Epoch 22/50\n",
      "27228/27228 [==============================] - 16s 599us/step - loss: 0.8045 - acc: 0.6939 - val_loss: 0.9613 - val_acc: 0.6251\n",
      "Epoch 23/50\n",
      "27228/27228 [==============================] - 16s 591us/step - loss: 0.7986 - acc: 0.6992 - val_loss: 0.9523 - val_acc: 0.6293\n",
      "Epoch 24/50\n",
      "27228/27228 [==============================] - 16s 589us/step - loss: 0.7904 - acc: 0.7046 - val_loss: 0.9576 - val_acc: 0.6360\n",
      "Epoch 25/50\n",
      "27228/27228 [==============================] - 16s 580us/step - loss: 0.7793 - acc: 0.7084 - val_loss: 0.9650 - val_acc: 0.6307\n",
      "Epoch 26/50\n",
      "27228/27228 [==============================] - 17s 619us/step - loss: 0.7698 - acc: 0.7156 - val_loss: 0.9835 - val_acc: 0.6215\n",
      "Epoch 27/50\n",
      "27228/27228 [==============================] - 16s 597us/step - loss: 0.7609 - acc: 0.7173 - val_loss: 0.9823 - val_acc: 0.6306\n",
      "Epoch 28/50\n",
      "27228/27228 [==============================] - 17s 618us/step - loss: 0.7514 - acc: 0.7223 - val_loss: 0.9806 - val_acc: 0.6353\n",
      "Epoch 29/50\n",
      "27228/27228 [==============================] - 16s 605us/step - loss: 0.7447 - acc: 0.7246 - val_loss: 0.9750 - val_acc: 0.6385\n",
      "Epoch 30/50\n",
      "27228/27228 [==============================] - 16s 592us/step - loss: 0.7333 - acc: 0.7277 - val_loss: 0.9682 - val_acc: 0.6298\n",
      "Epoch 31/50\n",
      "27228/27228 [==============================] - 16s 602us/step - loss: 0.7235 - acc: 0.7328 - val_loss: 0.9755 - val_acc: 0.6276\n",
      "Epoch 32/50\n",
      "27228/27228 [==============================] - 16s 594us/step - loss: 0.7163 - acc: 0.7378 - val_loss: 0.9897 - val_acc: 0.6304\n",
      "Epoch 33/50\n",
      "27228/27228 [==============================] - 17s 635us/step - loss: 0.7093 - acc: 0.7410 - val_loss: 0.9957 - val_acc: 0.6334\n",
      "Epoch 34/50\n",
      "27228/27228 [==============================] - 18s 652us/step - loss: 0.6987 - acc: 0.7451 - val_loss: 0.9731 - val_acc: 0.6385\n",
      "Epoch 35/50\n",
      "27228/27228 [==============================] - 16s 584us/step - loss: 0.6924 - acc: 0.7469 - val_loss: 0.9992 - val_acc: 0.6274\n",
      "Epoch 36/50\n",
      "27228/27228 [==============================] - 16s 605us/step - loss: 0.6824 - acc: 0.7522 - val_loss: 1.0003 - val_acc: 0.6381\n",
      "Epoch 37/50\n",
      "27228/27228 [==============================] - 16s 589us/step - loss: 0.6754 - acc: 0.7570 - val_loss: 0.9868 - val_acc: 0.6376\n",
      "Epoch 38/50\n",
      "27228/27228 [==============================] - 17s 641us/step - loss: 0.6631 - acc: 0.7609 - val_loss: 1.0074 - val_acc: 0.6350\n",
      "Epoch 39/50\n",
      "27228/27228 [==============================] - 17s 638us/step - loss: 0.6577 - acc: 0.7659 - val_loss: 1.0493 - val_acc: 0.6284\n",
      "Epoch 40/50\n",
      "27228/27228 [==============================] - 17s 608us/step - loss: 0.6535 - acc: 0.7629 - val_loss: 1.0255 - val_acc: 0.6351\n",
      "Epoch 41/50\n",
      "27228/27228 [==============================] - 16s 583us/step - loss: 0.6408 - acc: 0.7683 - val_loss: 1.0132 - val_acc: 0.6353\n",
      "Epoch 42/50\n",
      "27228/27228 [==============================] - 17s 635us/step - loss: 0.6331 - acc: 0.7717 - val_loss: 1.0109 - val_acc: 0.6401\n",
      "Epoch 43/50\n",
      "27228/27228 [==============================] - 17s 623us/step - loss: 0.6264 - acc: 0.7763 - val_loss: 1.0437 - val_acc: 0.6357\n",
      "Epoch 44/50\n",
      "27228/27228 [==============================] - 17s 624us/step - loss: 0.6197 - acc: 0.7773 - val_loss: 1.0187 - val_acc: 0.6381\n",
      "Epoch 45/50\n",
      "27228/27228 [==============================] - 17s 608us/step - loss: 0.6128 - acc: 0.7791 - val_loss: 1.0346 - val_acc: 0.6451\n",
      "Epoch 46/50\n",
      "27228/27228 [==============================] - 17s 633us/step - loss: 0.6041 - acc: 0.7865 - val_loss: 1.0280 - val_acc: 0.6435\n",
      "Epoch 47/50\n",
      "27228/27228 [==============================] - 17s 614us/step - loss: 0.5982 - acc: 0.7858 - val_loss: 1.0435 - val_acc: 0.6426\n",
      "Epoch 48/50\n",
      "27228/27228 [==============================] - 17s 609us/step - loss: 0.5926 - acc: 0.7893 - val_loss: 1.0466 - val_acc: 0.6419\n",
      "Epoch 49/50\n",
      "27228/27228 [==============================] - 17s 621us/step - loss: 0.5832 - acc: 0.7949 - val_loss: 1.0354 - val_acc: 0.6403\n",
      "Epoch 50/50\n",
      "27228/27228 [==============================] - 17s 630us/step - loss: 0.5722 - acc: 0.7985 - val_loss: 1.0581 - val_acc: 0.6448\n"
     ]
    }
   ],
   "source": [
    "# Train the Model\n",
    "history = model.fit(X_train, y_train,\n",
    "                    epochs=50,\n",
    "                    batch_size=128,\n",
    "                    validation_split=0.2)"
   ]
  },
  {
   "cell_type": "code",
   "execution_count": 111,
   "metadata": {},
   "outputs": [
    {
     "data": {
      "image/png": "[encoded data removed]",
      "text/plain": [
       "<Figure size 432x288 with 1 Axes>"
      ]
     },
     "metadata": {
      "needs_background": "light"
     },
     "output_type": "display_data"
    },
    {
     "data": {
      "image/png": "[encoded data removed]",
      "text/plain": [
       "<Figure size 432x288 with 1 Axes>"
      ]
     },
     "metadata": {
      "needs_background": "light"
     },
     "output_type": "display_data"
    }
   ],
   "source": [
    "# Plot the Training and Validation Accuracy & Loss Scores\n",
    "%matplotlib inline\n",
    "\n",
    "acc = history.history['acc']\n",
    "val_acc = history.history['val_acc']\n",
    "loss = history.history['loss']\n",
    "val_loss = history.history['val_loss']\n",
    "\n",
    "epochs = range(len(acc))\n",
    "\n",
    "plt.plot(epochs, acc, 'bo', label='Training acc')\n",
    "plt.plot(epochs, val_acc, 'b', label='Validation acc')\n",
    "plt.title('Training and validation accuracy')\n",
    "plt.legend()\n",
    "\n",
    "plt.figure()\n",
    "\n",
    "plt.plot(epochs, loss, 'bo', label='Training loss')\n",
    "plt.plot(epochs, val_loss, 'b', label='Validation loss')\n",
    "plt.title('Training and validation loss')\n",
    "plt.legend()\n",
    "\n",
    "plt.show()"
   ]
  },
  {
   "cell_type": "code",
   "execution_count": 81,
   "metadata": {},
   "outputs": [],
   "source": [
    "# Save the Model\n",
    "model.save('text_model_2.h5')"
   ]
  },
  {
   "cell_type": "markdown",
   "metadata": {},
   "source": [
    "### Model#3 (Student Name: XXXX)"
   ]
  },
  {
   "cell_type": "code",
   "execution_count": null,
   "metadata": {},
   "outputs": [],
   "source": [
    "# Build the Model"
   ]
  },
  {
   "cell_type": "code",
   "execution_count": null,
   "metadata": {},
   "outputs": [],
   "source": [
    "# Train the Model"
   ]
  },
  {
   "cell_type": "code",
   "execution_count": null,
   "metadata": {},
   "outputs": [],
   "source": [
    "# Plot the Training and Validation Accuracy & Loss Scores"
   ]
  },
  {
   "cell_type": "code",
   "execution_count": null,
   "metadata": {},
   "outputs": [],
   "source": [
    "# Save the Model\n",
    "model.save('text_model_3.h5')"
   ]
  },
  {
   "cell_type": "markdown",
   "metadata": {},
   "source": [
    "### Model#4 (Student Name: XXXX)"
   ]
  },
  {
   "cell_type": "code",
   "execution_count": null,
   "metadata": {},
   "outputs": [],
   "source": [
    "# Build the Model"
   ]
  },
  {
   "cell_type": "code",
   "execution_count": null,
   "metadata": {},
   "outputs": [],
   "source": [
    "# Train the Model"
   ]
  },
  {
   "cell_type": "code",
   "execution_count": null,
   "metadata": {},
   "outputs": [],
   "source": [
    "# Plot the Training and Validation Accuracy & Loss Scores"
   ]
  },
  {
   "cell_type": "code",
   "execution_count": null,
   "metadata": {},
   "outputs": [],
   "source": [
    "# Save the Model\n",
    "model.save('text_model_4.h5')"
   ]
  },
  {
   "cell_type": "markdown",
   "metadata": {},
   "source": [
    "### Model#5 (Student Name: XXXX)"
   ]
  },
  {
   "cell_type": "code",
   "execution_count": null,
   "metadata": {},
   "outputs": [],
   "source": [
    "# Build the Model"
   ]
  },
  {
   "cell_type": "code",
   "execution_count": null,
   "metadata": {},
   "outputs": [],
   "source": [
    "# Train the Model"
   ]
  },
  {
   "cell_type": "code",
   "execution_count": null,
   "metadata": {},
   "outputs": [],
   "source": [
    "# Plot the Training and Validation Accuracy & Loss Scores"
   ]
  },
  {
   "cell_type": "code",
   "execution_count": null,
   "metadata": {},
   "outputs": [],
   "source": [
    "# Save the Model\n",
    "model.save('text_model_5.h5')"
   ]
  },
  {
   "cell_type": "markdown",
   "metadata": {},
   "source": [
    "## Step 3 – Evaluate the Model using Testing Data (Individual & Group)"
   ]
  },
  {
   "cell_type": "code",
   "execution_count": 28,
   "metadata": {},
   "outputs": [
    {
     "name": "stdout",
     "output_type": "stream",
     "text": [
      "8510/8510 [==============================] - 7s 808us/step\n",
      "test_loss: 0.9933475536969518\n",
      "test_acc: 0.6299647474401006\n"
     ]
    }
   ],
   "source": [
    "# Model #1\n",
    "model.load_weights('text_model_1.h5')\n",
    "test_loss, test_acc = model.evaluate(X_test, y_test)\n",
    "print('test_loss:', test_loss)\n",
    "print('test_acc:', test_acc)"
   ]
  },
  {
   "cell_type": "code",
   "execution_count": 82,
   "metadata": {},
   "outputs": [
    {
     "name": "stdout",
     "output_type": "stream",
     "text": [
      "8510/8510 [==============================] - 8s 964us/step\n",
      "test_loss: 2.671066783429873\n",
      "test_acc: 0.6599294946840871\n"
     ]
    }
   ],
   "source": [
    "# Model #2\n",
    "model.load_weights('text_model_2.h5')\n",
    "test_loss, test_acc = model.evaluate(X_test, y_test)\n",
    "print('test_loss:', test_loss)\n",
    "print('test_acc:', test_acc)"
   ]
  },
  {
   "cell_type": "code",
   "execution_count": null,
   "metadata": {},
   "outputs": [],
   "source": [
    "# Model #3\n",
    "model.load_weights('text_model_3.h5')\n",
    "\n"
   ]
  },
  {
   "cell_type": "code",
   "execution_count": null,
   "metadata": {},
   "outputs": [],
   "source": [
    "# Model #4\n",
    "model.load_weights('text_model_4.h5')\n",
    "\n"
   ]
  },
  {
   "cell_type": "code",
   "execution_count": null,
   "metadata": {},
   "outputs": [],
   "source": [
    "# Model #5\n",
    "model.load_weights('text_model_5.h5')\n",
    "\n"
   ]
  },
  {
   "cell_type": "code",
   "execution_count": 31,
   "metadata": {},
   "outputs": [],
   "source": [
    "# Save the Best Model\n",
    "model.save('text_model_best.h5')"
   ]
  },
  {
   "cell_type": "markdown",
   "metadata": {},
   "source": [
    "## Step 4 – Use the Best Model to make prediction (Group)"
   ]
  },
  {
   "cell_type": "code",
   "execution_count": 32,
   "metadata": {},
   "outputs": [],
   "source": [
    "model.load_weights('text_model_best.h5')"
   ]
  },
  {
   "cell_type": "code",
   "execution_count": 33,
   "metadata": {},
   "outputs": [
    {
     "name": "stdout",
     "output_type": "stream",
     "text": [
      "Am I an idiot or what?\n"
     ]
    }
   ],
   "source": [
    "# takes the user input\n",
    "text_input = np.array([input()])"
   ]
  },
  {
   "cell_type": "code",
   "execution_count": 34,
   "metadata": {},
   "outputs": [],
   "source": [
    "# convert the user input into numeric tensor\n",
    "prediction_sequences = tokenizer.texts_to_sequences(text_input)\n",
    "padded_prediction_sequences = pad_sequences(prediction_sequences, maxlen=maxlen)"
   ]
  },
  {
   "cell_type": "code",
   "execution_count": 35,
   "metadata": {},
   "outputs": [
    {
     "name": "stdout",
     "output_type": "stream",
     "text": [
      "[[   0    0    0    0    0    0    0    0    0    0    0    0    0    0\n",
      "   175    5   97 6115  158   58]]\n"
     ]
    }
   ],
   "source": [
    "print(padded_prediction_sequences)"
   ]
  },
  {
   "cell_type": "code",
   "execution_count": 36,
   "metadata": {},
   "outputs": [
    {
     "name": "stdout",
     "output_type": "stream",
     "text": [
      "Predicted Label: 1\n",
      "Predicted Emoji: 😂\n"
     ]
    }
   ],
   "source": [
    "# show the model output using predict function\n",
    "prediction = model.predict_classes(padded_prediction_sequences).item()\n",
    "print(\"Predicted Label: {0}\".format(prediction))\n",
    "result = emoji_dictionary[prediction]\n",
    "print(\"Predicted Emoji: {0}\".format(result))"
   ]
  },
  {
   "cell_type": "code",
   "execution_count": null,
   "metadata": {},
   "outputs": [],
   "source": []
  }
 ],
 "metadata": {
  "kernelspec": {
   "display_name": "Python 3",
   "language": "python",
   "name": "python3"
  },
  "language_info": {
   "codemirror_mode": {
    "name": "ipython",
    "version": 3
   },
   "file_extension": ".py",
   "mimetype": "text/x-python",
   "name": "python",
   "nbconvert_exporter": "python",
   "pygments_lexer": "ipython3",
   "version": "3.7.3"
  }
 },
 "nbformat": 4,
 "nbformat_minor": 2
}
