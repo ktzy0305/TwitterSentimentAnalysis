{
 "cells": [
  {
   "cell_type": "markdown",
   "metadata": {},
   "source": [
    "<table class=\"table table-bordered\">\n",
    "    <tr>\n",
    "        <th style=\"text-align:center; width:25%\"><img src='https://www.np.edu.sg/PublishingImages/Pages/default/odp/ICT.jpg' style=\"width: 250px; height: 125px; \"></th>\n",
    "        <th style=\"text-align:center;\"><h1>Deep Learning</h1><h2>Assignment (Problem 2) - Sentiment Analysis Model (Group)</h2><h3>AY2019/20 Semester</h3></th>\n",
    "    </tr>\n",
    "</table>"
   ]
  },
  {
   "cell_type": "code",
   "execution_count": 50,
   "metadata": {},
   "outputs": [],
   "source": [
    "# Import the Required Packages\n",
    "import keras\n",
    "import os\n",
    "from keras import layers, models, optimizers, regularizers\n",
    "from keras.layers import Embedding, SimpleRNN, GRU\n",
    "from keras.preprocessing.text import Tokenizer\n",
    "from keras.preprocessing.sequence import pad_sequences\n",
    "import matplotlib.pyplot as plt\n",
    "import numpy as np"
   ]
  },
  {
   "cell_type": "markdown",
   "metadata": {},
   "source": [
    "## Step 1 – Data Loading and Processing (Group)"
   ]
  },
  {
   "cell_type": "markdown",
   "metadata": {},
   "source": [
    "### 1.1 Data Loading"
   ]
  },
  {
   "cell_type": "code",
   "execution_count": 24,
   "metadata": {},
   "outputs": [
    {
     "name": "stdout",
     "output_type": "stream",
     "text": [
      "{0: '😍', 1: '😂', 2: '📷', 3: '🔥', 4: '❤'}\n",
      "A total of:  5 Emoji Icons\n"
     ]
    }
   ],
   "source": [
    "# Load the emoji_dictionary\n",
    "import pandas as pd\n",
    "df = pd.read_csv('Mapping.csv', delimiter=',')\n",
    "emoji_dictionary = df.loc[:,'emoticons'].to_dict()\n",
    "print(emoji_dictionary)\n",
    "print('A total of: ', len(emoji_dictionary), 'Emoji Icons')"
   ]
  },
  {
   "cell_type": "code",
   "execution_count": 25,
   "metadata": {},
   "outputs": [],
   "source": [
    "# load the dataset\n",
    "dat = pd.read_csv('dataset.csv', delimiter=',')\n",
    "texts = dat.loc[:,'TEXT'].values \n",
    "labels = dat.loc[:,'Label'].values"
   ]
  },
  {
   "cell_type": "code",
   "execution_count": 26,
   "metadata": {},
   "outputs": [
    {
     "name": "stdout",
     "output_type": "stream",
     "text": [
      "the maximum length of the text inputs is  34\n"
     ]
    }
   ],
   "source": [
    "# Check the maximum length of texts\n",
    "max_len = -1\n",
    "for example in texts:\n",
    "    if len(example.split()) > max_len:\n",
    "        max_len = len(example.split())\n",
    "        \n",
    "print('the maximum length of the text inputs is ', max_len)"
   ]
  },
  {
   "cell_type": "markdown",
   "metadata": {},
   "source": [
    "### 1.2 Data Processing\n"
   ]
  },
  {
   "cell_type": "code",
   "execution_count": 27,
   "metadata": {},
   "outputs": [
    {
     "name": "stdout",
     "output_type": "stream",
     "text": [
      "Found 56702 unique tokens.\n",
      "Shape of data tensor: (42546, 20)\n",
      "Shape of label tensor: (42546,)\n"
     ]
    }
   ],
   "source": [
    "# Convert the texts and labels into numeric tensors\n",
    "maxlen = 20  # Cut each tweet after 20 words\n",
    "max_words = 10000  # We will only consider the top 10,000 words (vocabulary) in the dataset (dictionary)\n",
    "word_index = tokenizer.word_index\n",
    "\n",
    "tokenizer = Tokenizer(num_words=max_words)\n",
    "tokenizer.fit_on_texts(texts)\n",
    "sequences = tokenizer.texts_to_sequences(texts)\n",
    "\n",
    "word_index = tokenizer.word_index\n",
    "print('Found %s unique tokens.' %len(word_index))\n",
    "\n",
    "X = pad_sequences(sequences, maxlen=maxlen)\n",
    "y = np.asarray(labels)\n",
    "print('Shape of data tensor:', X.shape)\n",
    "print('Shape of label tensor:', y.shape)"
   ]
  },
  {
   "cell_type": "code",
   "execution_count": 28,
   "metadata": {},
   "outputs": [
    {
     "name": "stdout",
     "output_type": "stream",
     "text": [
      "Maxwell heads home @ Summa Akron City Hospital\r\n",
      "\n",
      "[   0    0    0    0    0    0    0    0    0    0    0    0    0    0\n",
      " 9596 3878   89 9597   75 1722]\n",
      "0\n"
     ]
    }
   ],
   "source": [
    "# Sample Tweet\n",
    "print(texts[4])\n",
    "print(X[4])\n",
    "print(y[4])"
   ]
  },
  {
   "cell_type": "code",
   "execution_count": 29,
   "metadata": {},
   "outputs": [
    {
     "name": "stdout",
     "output_type": "stream",
     "text": [
      "Found 400000 word vectors.\n"
     ]
    }
   ],
   "source": [
    "glove_dir = \"C:/Users/Kevin/Documents/Deep Learning/Data/glove.6B\"\n",
    "embeddings_index = {}\n",
    "f = open(os.path.join(glove_dir, 'glove.6B.50d.txt'), encoding=\"utf8\")\n",
    "for line in f:\n",
    "    values = line.split()\n",
    "    word = values[0]\n",
    "    coefs = np.asarray(values[1:], dtype='float32')\n",
    "    embeddings_index[word] = coefs\n",
    "f.close()\n",
    "\n",
    "print('Found %s word vectors.' % len(embeddings_index))"
   ]
  },
  {
   "cell_type": "code",
   "execution_count": 30,
   "metadata": {},
   "outputs": [],
   "source": [
    "embedding_dim = 50\n",
    "embedding_matrix = np.zeros((max_words, embedding_dim))\n",
    "for word, i in word_index.items():\n",
    "    embedding_vector = embeddings_index.get(word)\n",
    "    if i < max_words:\n",
    "        if embedding_vector is not None:\n",
    "            # Words not found in embedding index will be all zeros\n",
    "            embedding_matrix[i] = embedding_vector"
   ]
  },
  {
   "cell_type": "code",
   "execution_count": 31,
   "metadata": {},
   "outputs": [
    {
     "name": "stdout",
     "output_type": "stream",
     "text": [
      "[[ 0.          0.          0.         ...  0.          0.\n",
      "   0.        ]\n",
      " [ 0.41800001  0.24968    -0.41242    ... -0.18411    -0.11514\n",
      "  -0.78580999]\n",
      " [ 0.          0.          0.         ...  0.          0.\n",
      "   0.        ]\n",
      " ...\n",
      " [ 0.          0.          0.         ...  0.          0.\n",
      "   0.        ]\n",
      " [-0.43718001  0.37994999  0.41909    ...  0.30537999  1.10309994\n",
      "  -0.61768001]\n",
      " [-0.59097999 -0.68475997 -0.16461    ... -0.33649999 -0.77178001\n",
      "  -0.13447   ]]\n"
     ]
    }
   ],
   "source": [
    "print(embedding_matrix)"
   ]
  },
  {
   "cell_type": "markdown",
   "metadata": {},
   "source": [
    "### 1.3 Data Sampling"
   ]
  },
  {
   "cell_type": "code",
   "execution_count": 32,
   "metadata": {},
   "outputs": [],
   "source": [
    "# Split the X & y into train and test sets\n",
    "from sklearn.model_selection import train_test_split\n",
    "X_train, X_test, y_train, y_test = train_test_split(X, y, test_size=0.2, random_state = 4)\n",
    "# Refer the report Appendix\n",
    "# Please enter the random_state assigned to your group"
   ]
  },
  {
   "cell_type": "markdown",
   "metadata": {},
   "source": [
    "## Step 2 – Develop a Sentiment Analysis Model (Individual: One Model Per Student) "
   ]
  },
  {
   "cell_type": "markdown",
   "metadata": {},
   "source": [
    "### Model#1 (Student Name: Kevin Toh)"
   ]
  },
  {
   "cell_type": "markdown",
   "metadata": {},
   "source": [
    "### Underfit"
   ]
  },
  {
   "cell_type": "code",
   "execution_count": 40,
   "metadata": {
    "scrolled": true
   },
   "outputs": [
    {
     "name": "stdout",
     "output_type": "stream",
     "text": [
      "_________________________________________________________________\n",
      "Layer (type)                 Output Shape              Param #   \n",
      "=================================================================\n",
      "embedding_5 (Embedding)      (None, 20, 50)            500000    \n",
      "_________________________________________________________________\n",
      "lstm_9 (LSTM)                (None, 20, 64)            29440     \n",
      "_________________________________________________________________\n",
      "lstm_10 (LSTM)               (None, 64)                33024     \n",
      "_________________________________________________________________\n",
      "dense_5 (Dense)              (None, 5)                 325       \n",
      "=================================================================\n",
      "Total params: 562,789\n",
      "Trainable params: 562,789\n",
      "Non-trainable params: 0\n",
      "_________________________________________________________________\n"
     ]
    }
   ],
   "source": [
    "# Build the Model\n",
    "model = models.Sequential()\n",
    "# model.add(layers.Embedding(max_words, 16, input_length=maxlen))\n",
    "model.add(layers.Embedding(max_words, embedding_dim, input_length=maxlen))\n",
    "model.add(layers.LSTM(64, return_sequences=True))\n",
    "model.add(layers.LSTM(64))\n",
    "model.add(layers.Dense(5, activation='softmax'))\n",
    "model.summary()A"
   ]
  },
  {
   "cell_type": "code",
   "execution_count": 41,
   "metadata": {},
   "outputs": [],
   "source": [
    "model.layers[0].set_weights([embedding_matrix])\n",
    "model.layers[0].trainable = False "
   ]
  },
  {
   "cell_type": "code",
   "execution_count": 42,
   "metadata": {},
   "outputs": [],
   "source": [
    "model.compile(optimizer='rmsprop',\n",
    "              loss='sparse_categorical_crossentropy',\n",
    "              metrics=['acc'])"
   ]
  },
  {
   "cell_type": "code",
   "execution_count": 43,
   "metadata": {},
   "outputs": [
    {
     "name": "stdout",
     "output_type": "stream",
     "text": [
      "Train on 27228 samples, validate on 6808 samples\n",
      "Epoch 1/10\n",
      "27228/27228 [==============================] - 16s 575us/step - loss: 1.3015 - acc: 0.4687 - val_loss: 1.2407 - val_acc: 0.4919\n",
      "Epoch 2/10\n",
      "27228/27228 [==============================] - 14s 505us/step - loss: 1.2289 - acc: 0.5011 - val_loss: 1.2082 - val_acc: 0.5087\n",
      "Epoch 3/10\n",
      "27228/27228 [==============================] - 14s 506us/step - loss: 1.2004 - acc: 0.5158 - val_loss: 1.2009 - val_acc: 0.5118\n",
      "Epoch 4/10\n",
      "27228/27228 [==============================] - 14s 505us/step - loss: 1.1735 - acc: 0.5305 - val_loss: 1.1773 - val_acc: 0.5256\n",
      "Epoch 5/10\n",
      "27228/27228 [==============================] - 14s 503us/step - loss: 1.1524 - acc: 0.5392 - val_loss: 1.1631 - val_acc: 0.5300\n",
      "Epoch 6/10\n",
      "27228/27228 [==============================] - 14s 525us/step - loss: 1.1299 - acc: 0.5472 - val_loss: 1.1579 - val_acc: 0.5303\n",
      "Epoch 7/10\n",
      "27228/27228 [==============================] - 14s 516us/step - loss: 1.1097 - acc: 0.5558 - val_loss: 1.1606 - val_acc: 0.5364\n",
      "Epoch 8/10\n",
      "27228/27228 [==============================] - 14s 505us/step - loss: 1.0907 - acc: 0.5658 - val_loss: 1.1407 - val_acc: 0.5308\n",
      "Epoch 9/10\n",
      "27228/27228 [==============================] - 14s 506us/step - loss: 1.0716 - acc: 0.5727 - val_loss: 1.1458 - val_acc: 0.5404\n",
      "Epoch 10/10\n",
      "27228/27228 [==============================] - 14s 515us/step - loss: 1.0562 - acc: 0.5796 - val_loss: 1.1181 - val_acc: 0.5546\n"
     ]
    }
   ],
   "source": [
    "# Train the Model\n",
    "history = model.fit(X_train, y_train,\n",
    "                    epochs=10,\n",
    "                    batch_size=128,\n",
    "                    validation_split=0.2)"
   ]
  },
  {
   "cell_type": "code",
   "execution_count": 44,
   "metadata": {
    "scrolled": false
   },
   "outputs": [
    {
     "data": {
      "image/png": "[encoded data removed]",
      "text/plain": [
       "<Figure size 432x288 with 1 Axes>"
      ]
     },
     "metadata": {
      "needs_background": "light"
     },
     "output_type": "display_data"
    },
    {
     "data": {
      "image/png": "[encoded data removed]",
      "text/plain": [
       "<Figure size 432x288 with 1 Axes>"
      ]
     },
     "metadata": {
      "needs_background": "light"
     },
     "output_type": "display_data"
    }
   ],
   "source": [
    "# Plot the Training and Validation Accuracy & Loss Scores\n",
    "%matplotlib inline\n",
    "\n",
    "acc = history.history['acc']\n",
    "val_acc = history.history['val_acc']\n",
    "loss = history.history['loss']\n",
    "val_loss = history.history['val_loss']\n",
    "\n",
    "epochs = range(len(acc))\n",
    "\n",
    "plt.plot(epochs, acc, 'bo', label='Training acc')\n",
    "plt.plot(epochs, val_acc, 'b', label='Validation acc')\n",
    "plt.title('Training and validation accuracy')\n",
    "plt.legend()\n",
    "\n",
    "plt.figure()\n",
    "\n",
    "plt.plot(epochs, loss, 'bo', label='Training loss')\n",
    "plt.plot(epochs, val_loss, 'b', label='Validation loss')\n",
    "plt.title('Training and validation loss')\n",
    "plt.legend()\n",
    "\n",
    "plt.show()"
   ]
  },
  {
   "cell_type": "markdown",
   "metadata": {},
   "source": [
    "### Overfit"
   ]
  },
  {
   "cell_type": "code",
   "execution_count": 51,
   "metadata": {},
   "outputs": [
    {
     "name": "stdout",
     "output_type": "stream",
     "text": [
      "_________________________________________________________________\n",
      "Layer (type)                 Output Shape              Param #   \n",
      "=================================================================\n",
      "embedding_7 (Embedding)      (None, 20, 50)            500000    \n",
      "_________________________________________________________________\n",
      "lstm_13 (LSTM)               (None, 20, 256)           314368    \n",
      "_________________________________________________________________\n",
      "lstm_14 (LSTM)               (None, 256)               525312    \n",
      "_________________________________________________________________\n",
      "dense_7 (Dense)              (None, 5)                 1285      \n",
      "=================================================================\n",
      "Total params: 1,340,965\n",
      "Trainable params: 1,340,965\n",
      "Non-trainable params: 0\n",
      "_________________________________________________________________\n"
     ]
    }
   ],
   "source": [
    "# Build the Model\n",
    "model = models.Sequential()\n",
    "# model.add(layers.Embedding(10000, 16, input_length=maxlen))\n",
    "model.add(layers.Embedding(max_words, embedding_dim, input_length=maxlen))\n",
    "model.add(layers.LSTM(256, return_sequences=True))\n",
    "model.add(layers.LSTM(256))\n",
    "model.add(layers.Dense(5, activation='softmax'))\n",
    "model.summary()"
   ]
  },
  {
   "cell_type": "code",
   "execution_count": 52,
   "metadata": {},
   "outputs": [],
   "source": [
    "model.layers[0].set_weights([embedding_matrix])\n",
    "model.layers[0].trainable = False "
   ]
  },
  {
   "cell_type": "code",
   "execution_count": 53,
   "metadata": {},
   "outputs": [],
   "source": [
    "model.compile(optimizer='rmsprop',\n",
    "              loss='sparse_categorical_crossentropy',\n",
    "              metrics=['acc'])"
   ]
  },
  {
   "cell_type": "code",
   "execution_count": 54,
   "metadata": {},
   "outputs": [
    {
     "name": "stdout",
     "output_type": "stream",
     "text": [
      "Train on 27228 samples, validate on 6808 samples\n",
      "Epoch 1/20\n",
      "27228/27228 [==============================] - 30s 1ms/step - loss: 1.3012 - acc: 0.4684 - val_loss: 1.2454 - val_acc: 0.4884\n",
      "Epoch 2/20\n",
      "27228/27228 [==============================] - 28s 1ms/step - loss: 1.2262 - acc: 0.5061 - val_loss: 1.2176 - val_acc: 0.5132\n",
      "Epoch 3/20\n",
      "27228/27228 [==============================] - 28s 1ms/step - loss: 1.1873 - acc: 0.5229 - val_loss: 1.2130 - val_acc: 0.5141\n",
      "Epoch 4/20\n",
      "27228/27228 [==============================] - 28s 1ms/step - loss: 1.1508 - acc: 0.5391 - val_loss: 1.1552 - val_acc: 0.5367\n",
      "Epoch 5/20\n",
      "27228/27228 [==============================] - 27s 1ms/step - loss: 1.1143 - acc: 0.5536 - val_loss: 1.1747 - val_acc: 0.5304\n",
      "Epoch 6/20\n",
      "27228/27228 [==============================] - 28s 1ms/step - loss: 1.0740 - acc: 0.5713 - val_loss: 1.1845 - val_acc: 0.5253\n",
      "Epoch 7/20\n",
      "27228/27228 [==============================] - 31s 1ms/step - loss: 1.0332 - acc: 0.5916 - val_loss: 1.1201 - val_acc: 0.5548\n",
      "Epoch 8/20\n",
      "27228/27228 [==============================] - 28s 1ms/step - loss: 0.9855 - acc: 0.6080 - val_loss: 1.1521 - val_acc: 0.5501\n",
      "Epoch 9/20\n",
      "27228/27228 [==============================] - 28s 1ms/step - loss: 0.9306 - acc: 0.6321 - val_loss: 1.1514 - val_acc: 0.5570\n",
      "Epoch 10/20\n",
      "27228/27228 [==============================] - 28s 1ms/step - loss: 0.8667 - acc: 0.6611 - val_loss: 1.1747 - val_acc: 0.5532\n",
      "Epoch 11/20\n",
      "27228/27228 [==============================] - 28s 1ms/step - loss: 0.7984 - acc: 0.6905 - val_loss: 1.2015 - val_acc: 0.5543\n",
      "Epoch 12/20\n",
      "27228/27228 [==============================] - 28s 1ms/step - loss: 0.7194 - acc: 0.7240 - val_loss: 1.2231 - val_acc: 0.5598\n",
      "Epoch 13/20\n",
      "27228/27228 [==============================] - 28s 1ms/step - loss: 0.6359 - acc: 0.7554 - val_loss: 1.3330 - val_acc: 0.5655\n",
      "Epoch 14/20\n",
      "27228/27228 [==============================] - 28s 1ms/step - loss: 0.5518 - acc: 0.7933 - val_loss: 1.4433 - val_acc: 0.5736\n",
      "Epoch 15/20\n",
      "27228/27228 [==============================] - 27s 1ms/step - loss: 0.4776 - acc: 0.8179 - val_loss: 1.4864 - val_acc: 0.5726\n",
      "Epoch 16/20\n",
      "27228/27228 [==============================] - 28s 1ms/step - loss: 0.4075 - acc: 0.8488 - val_loss: 1.6893 - val_acc: 0.5598\n",
      "Epoch 17/20\n",
      "27228/27228 [==============================] - 28s 1ms/step - loss: 0.3490 - acc: 0.8720 - val_loss: 1.7013 - val_acc: 0.5721\n",
      "Epoch 18/20\n",
      "27228/27228 [==============================] - 28s 1ms/step - loss: 0.2957 - acc: 0.8903 - val_loss: 1.8911 - val_acc: 0.5711\n",
      "Epoch 19/20\n",
      "27228/27228 [==============================] - 28s 1ms/step - loss: 0.2528 - acc: 0.9100 - val_loss: 1.9890 - val_acc: 0.5770\n",
      "Epoch 20/20\n",
      "27228/27228 [==============================] - 28s 1ms/step - loss: 0.2204 - acc: 0.9213 - val_loss: 2.1200 - val_acc: 0.5742\n"
     ]
    }
   ],
   "source": [
    "# Train the Model\n",
    "history = model.fit(X_train, y_train,\n",
    "                    epochs=20,\n",
    "                    batch_size=128,\n",
    "                    validation_split=0.2)"
   ]
  },
  {
   "cell_type": "code",
   "execution_count": 60,
   "metadata": {},
   "outputs": [
    {
     "data": {
      "image/png": "[encoded data removed]",
      "text/plain": [
       "<Figure size 432x288 with 1 Axes>"
      ]
     },
     "metadata": {
      "needs_background": "light"
     },
     "output_type": "display_data"
    },
    {
     "data": {
      "image/png": "[encoded data removed]",
      "text/plain": [
       "<Figure size 432x288 with 1 Axes>"
      ]
     },
     "metadata": {
      "needs_background": "light"
     },
     "output_type": "display_data"
    }
   ],
   "source": [
    "# Plot the Training and Validation Accuracy & Loss Scores\n",
    "%matplotlib inline\n",
    "\n",
    "acc = history.history['acc']\n",
    "val_acc = history.history['val_acc']\n",
    "loss = history.history['loss']\n",
    "val_loss = history.history['val_loss']\n",
    "\n",
    "epochs = range(len(acc))\n",
    "\n",
    "plt.plot(epochs, acc, 'bo', label='Training acc')\n",
    "plt.plot(epochs, val_acc, 'b', label='Validation acc')\n",
    "plt.title('Training and validation accuracy')\n",
    "plt.legend()\n",
    "\n",
    "plt.figure()\n",
    "\n",
    "plt.plot(epochs, loss, 'bo', label='Training loss')\n",
    "plt.plot(epochs, val_loss, 'b', label='Validation loss')\n",
    "plt.title('Training and validation loss')\n",
    "plt.legend()\n",
    "\n",
    "plt.show()"
   ]
  },
  {
   "cell_type": "markdown",
   "metadata": {},
   "source": [
    "### Fine Tuning"
   ]
  },
  {
   "cell_type": "code",
   "execution_count": 61,
   "metadata": {},
   "outputs": [
    {
     "name": "stdout",
     "output_type": "stream",
     "text": [
      "_________________________________________________________________\n",
      "Layer (type)                 Output Shape              Param #   \n",
      "=================================================================\n",
      "embedding_9 (Embedding)      (None, 20, 50)            500000    \n",
      "_________________________________________________________________\n",
      "lstm_15 (LSTM)               (None, 20, 256)           314368    \n",
      "_________________________________________________________________\n",
      "lstm_16 (LSTM)               (None, 256)               525312    \n",
      "_________________________________________________________________\n",
      "dense_9 (Dense)              (None, 5)                 1285      \n",
      "=================================================================\n",
      "Total params: 1,340,965\n",
      "Trainable params: 1,340,965\n",
      "Non-trainable params: 0\n",
      "_________________________________________________________________\n"
     ]
    }
   ],
   "source": [
    "# Build the Model\n",
    "model = models.Sequential()\n",
    "# model.add(layers.Embedding(10000, 16, input_length=maxlen))\n",
    "model.add(layers.Embedding(max_words, embedding_dim, input_length=maxlen))\n",
    "model.add(layers.LSTM(256, return_sequences=True))\n",
    "model.add(layers.LSTM(256))\n",
    "model.add(layers.Dense(5, activation='softmax'))\n",
    "model.summary()"
   ]
  },
  {
   "cell_type": "code",
   "execution_count": 62,
   "metadata": {},
   "outputs": [],
   "source": [
    "model.layers[0].set_weights([embedding_matrix])\n",
    "model.layers[0].trainable = True"
   ]
  },
  {
   "cell_type": "code",
   "execution_count": 63,
   "metadata": {},
   "outputs": [],
   "source": [
    "model.compile(optimizer='rmsprop',\n",
    "              loss='sparse_categorical_crossentropy',\n",
    "              metrics=['acc'])"
   ]
  },
  {
   "cell_type": "code",
   "execution_count": 64,
   "metadata": {},
   "outputs": [
    {
     "name": "stdout",
     "output_type": "stream",
     "text": [
      "Train on 27228 samples, validate on 6808 samples\n",
      "Epoch 1/20\n",
      "27228/27228 [==============================] - 31s 1ms/step - loss: 1.2498 - acc: 0.4900 - val_loss: 1.1591 - val_acc: 0.5397\n",
      "Epoch 2/20\n",
      "27228/27228 [==============================] - 28s 1ms/step - loss: 1.0543 - acc: 0.5759 - val_loss: 1.0252 - val_acc: 0.5825\n",
      "Epoch 3/20\n",
      "27228/27228 [==============================] - 28s 1ms/step - loss: 0.9513 - acc: 0.6139 - val_loss: 1.0123 - val_acc: 0.5975\n",
      "Epoch 4/20\n",
      "27228/27228 [==============================] - 28s 1ms/step - loss: 0.8874 - acc: 0.6428 - val_loss: 0.9686 - val_acc: 0.6169\n",
      "Epoch 5/20\n",
      "27228/27228 [==============================] - 28s 1ms/step - loss: 0.8286 - acc: 0.6696 - val_loss: 0.9712 - val_acc: 0.6188\n",
      "Epoch 6/20\n",
      "27228/27228 [==============================] - 28s 1ms/step - loss: 0.7709 - acc: 0.6958 - val_loss: 0.9897 - val_acc: 0.6184\n",
      "Epoch 7/20\n",
      "27228/27228 [==============================] - 28s 1ms/step - loss: 0.7119 - acc: 0.7215 - val_loss: 1.0361 - val_acc: 0.6237\n",
      "Epoch 8/20\n",
      "27228/27228 [==============================] - 28s 1ms/step - loss: 0.6562 - acc: 0.7454 - val_loss: 1.0222 - val_acc: 0.6225\n",
      "Epoch 9/20\n",
      "27228/27228 [==============================] - 28s 1ms/step - loss: 0.5991 - acc: 0.7686 - val_loss: 1.0511 - val_acc: 0.6159\n",
      "Epoch 10/20\n",
      "27228/27228 [==============================] - 28s 1ms/step - loss: 0.5435 - acc: 0.7943 - val_loss: 1.0406 - val_acc: 0.6376\n",
      "Epoch 11/20\n",
      "27228/27228 [==============================] - 28s 1ms/step - loss: 0.4837 - acc: 0.8192 - val_loss: 1.1550 - val_acc: 0.6266\n",
      "Epoch 12/20\n",
      "27228/27228 [==============================] - 28s 1ms/step - loss: 0.4275 - acc: 0.8388 - val_loss: 1.2335 - val_acc: 0.6410\n",
      "Epoch 13/20\n",
      "27228/27228 [==============================] - 28s 1ms/step - loss: 0.3664 - acc: 0.8662 - val_loss: 1.2778 - val_acc: 0.6381\n",
      "Epoch 14/20\n",
      "27228/27228 [==============================] - 28s 1ms/step - loss: 0.3095 - acc: 0.8862 - val_loss: 1.4455 - val_acc: 0.6438\n",
      "Epoch 15/20\n",
      "27228/27228 [==============================] - 28s 1ms/step - loss: 0.2566 - acc: 0.9066 - val_loss: 1.5030 - val_acc: 0.6450\n",
      "Epoch 16/20\n",
      "27228/27228 [==============================] - 28s 1ms/step - loss: 0.2087 - acc: 0.9255 - val_loss: 1.6699 - val_acc: 0.6426\n",
      "Epoch 17/20\n",
      "27228/27228 [==============================] - 28s 1ms/step - loss: 0.1688 - acc: 0.9392 - val_loss: 1.7492 - val_acc: 0.6481\n",
      "Epoch 18/20\n",
      "27228/27228 [==============================] - 28s 1ms/step - loss: 0.1354 - acc: 0.9524 - val_loss: 1.8841 - val_acc: 0.6466\n",
      "Epoch 19/20\n",
      "27228/27228 [==============================] - 28s 1ms/step - loss: 0.1109 - acc: 0.9608 - val_loss: 2.0215 - val_acc: 0.6422\n",
      "Epoch 20/20\n",
      "27228/27228 [==============================] - 28s 1ms/step - loss: 0.0901 - acc: 0.9685 - val_loss: 2.1520 - val_acc: 0.6542\n"
     ]
    }
   ],
   "source": [
    "# Train the Model\n",
    "history = model.fit(X_train, y_train,\n",
    "                    epochs=20,\n",
    "                    batch_size=128,\n",
    "                    validation_split=0.2)"
   ]
  },
  {
   "cell_type": "code",
   "execution_count": 65,
   "metadata": {},
   "outputs": [
    {
     "data": {
      "image/png": "[encoded data removed]",
      "text/plain": [
       "<Figure size 432x288 with 1 Axes>"
      ]
     },
     "metadata": {
      "needs_background": "light"
     },
     "output_type": "display_data"
    },
    {
     "data": {
      "image/png": "[encoded data removed]",
      "text/plain": [
       "<Figure size 432x288 with 1 Axes>"
      ]
     },
     "metadata": {
      "needs_background": "light"
     },
     "output_type": "display_data"
    }
   ],
   "source": [
    "# Plot the Training and Validation Accuracy & Loss Scores\n",
    "%matplotlib inline\n",
    "\n",
    "acc = history.history['acc']\n",
    "val_acc = history.history['val_acc']\n",
    "loss = history.history['loss']\n",
    "val_loss = history.history['val_loss']\n",
    "\n",
    "epochs = range(len(acc))\n",
    "\n",
    "plt.plot(epochs, acc, 'bo', label='Training acc')\n",
    "plt.plot(epochs, val_acc, 'b', label='Validation acc')\n",
    "plt.title('Training and validation accuracy')\n",
    "plt.legend()\n",
    "\n",
    "plt.figure()\n",
    "\n",
    "plt.plot(epochs, loss, 'bo', label='Training loss')\n",
    "plt.plot(epochs, val_loss, 'b', label='Validation loss')\n",
    "plt.title('Training and validation loss')\n",
    "plt.legend()\n",
    "\n",
    "plt.show()"
   ]
  },
  {
   "cell_type": "code",
   "execution_count": 48,
   "metadata": {},
   "outputs": [],
   "source": [
    "# Save the Model\n",
    "model.save('text_model_1.h5')"
   ]
  },
  {
   "cell_type": "markdown",
   "metadata": {},
   "source": [
    "### Model#2 (Student Name: XXXX)"
   ]
  },
  {
   "cell_type": "markdown",
   "metadata": {},
   "source": [
    "### Underfit"
   ]
  },
  {
   "cell_type": "code",
   "execution_count": 66,
   "metadata": {},
   "outputs": [
    {
     "name": "stdout",
     "output_type": "stream",
     "text": [
      "_________________________________________________________________\n",
      "Layer (type)                 Output Shape              Param #   \n",
      "=================================================================\n",
      "embedding_10 (Embedding)     (None, 20, 50)            500000    \n",
      "_________________________________________________________________\n",
      "gru_3 (GRU)                  (None, 20, 32)            7968      \n",
      "_________________________________________________________________\n",
      "gru_4 (GRU)                  (None, 32)                6240      \n",
      "_________________________________________________________________\n",
      "dense_10 (Dense)             (None, 5)                 165       \n",
      "=================================================================\n",
      "Total params: 514,373\n",
      "Trainable params: 514,373\n",
      "Non-trainable params: 0\n",
      "_________________________________________________________________\n"
     ]
    }
   ],
   "source": [
    "# Build the Model\n",
    "model = models.Sequential()\n",
    "# model.add(layers.Embedding(10000, 16, input_length=maxlen))\n",
    "model.add(layers.Embedding(max_words, embedding_dim, input_length=maxlen))\n",
    "model.add(layers.GRU(32, return_sequences=True))\n",
    "model.add(layers.GRU(32))\n",
    "model.add(layers.Dense(5, activation='softmax'))\n",
    "model.summary()"
   ]
  },
  {
   "cell_type": "code",
   "execution_count": 67,
   "metadata": {},
   "outputs": [],
   "source": [
    "model.layers[0].set_weights([embedding_matrix])\n",
    "model.layers[0].trainable = False "
   ]
  },
  {
   "cell_type": "code",
   "execution_count": 68,
   "metadata": {},
   "outputs": [],
   "source": [
    "model.compile(optimizer='rmsprop',\n",
    "              loss='sparse_categorical_crossentropy',\n",
    "              metrics=['acc'])"
   ]
  },
  {
   "cell_type": "code",
   "execution_count": 69,
   "metadata": {},
   "outputs": [
    {
     "name": "stdout",
     "output_type": "stream",
     "text": [
      "Train on 27228 samples, validate on 6808 samples\n",
      "Epoch 1/20\n",
      "27228/27228 [==============================] - 15s 534us/step - loss: 1.3203 - acc: 0.4579 - val_loss: 1.2511 - val_acc: 0.4884\n",
      "Epoch 2/20\n",
      "27228/27228 [==============================] - 11s 417us/step - loss: 1.2322 - acc: 0.4989 - val_loss: 1.2132 - val_acc: 0.5043\n",
      "Epoch 3/20\n",
      "27228/27228 [==============================] - 11s 419us/step - loss: 1.2003 - acc: 0.5148 - val_loss: 1.1955 - val_acc: 0.5151\n",
      "Epoch 4/20\n",
      "27228/27228 [==============================] - 12s 424us/step - loss: 1.1777 - acc: 0.5273 - val_loss: 1.1745 - val_acc: 0.5210\n",
      "Epoch 5/20\n",
      "27228/27228 [==============================] - 11s 422us/step - loss: 1.1602 - acc: 0.5356 - val_loss: 1.2017 - val_acc: 0.5071\n",
      "Epoch 6/20\n",
      "27228/27228 [==============================] - 12s 427us/step - loss: 1.1466 - acc: 0.5407 - val_loss: 1.1600 - val_acc: 0.5348\n",
      "Epoch 7/20\n",
      "27228/27228 [==============================] - 12s 433us/step - loss: 1.1346 - acc: 0.5446 - val_loss: 1.1563 - val_acc: 0.5325\n",
      "Epoch 8/20\n",
      "27228/27228 [==============================] - 12s 426us/step - loss: 1.1206 - acc: 0.5518 - val_loss: 1.1558 - val_acc: 0.5336\n",
      "Epoch 9/20\n",
      "27228/27228 [==============================] - 11s 420us/step - loss: 1.1107 - acc: 0.5553 - val_loss: 1.1443 - val_acc: 0.5344\n",
      "Epoch 10/20\n",
      "27228/27228 [==============================] - 12s 431us/step - loss: 1.1004 - acc: 0.5583 - val_loss: 1.1421 - val_acc: 0.5385\n",
      "Epoch 11/20\n",
      "27228/27228 [==============================] - 12s 428us/step - loss: 1.0903 - acc: 0.5648 - val_loss: 1.1431 - val_acc: 0.5391\n",
      "Epoch 12/20\n",
      "27228/27228 [==============================] - 12s 431us/step - loss: 1.0819 - acc: 0.5706 - val_loss: 1.1328 - val_acc: 0.5467\n",
      "Epoch 13/20\n",
      "27228/27228 [==============================] - 12s 426us/step - loss: 1.0734 - acc: 0.5726 - val_loss: 1.1386 - val_acc: 0.5357\n",
      "Epoch 14/20\n",
      "27228/27228 [==============================] - 12s 423us/step - loss: 1.0659 - acc: 0.5775 - val_loss: 1.1236 - val_acc: 0.5521\n",
      "Epoch 15/20\n",
      "27228/27228 [==============================] - 12s 430us/step - loss: 1.0577 - acc: 0.5810 - val_loss: 1.1226 - val_acc: 0.5545\n",
      "Epoch 16/20\n",
      "27228/27228 [==============================] - 12s 425us/step - loss: 1.0516 - acc: 0.5819 - val_loss: 1.1203 - val_acc: 0.5561\n",
      "Epoch 17/20\n",
      "27228/27228 [==============================] - 12s 426us/step - loss: 1.0437 - acc: 0.5867 - val_loss: 1.1199 - val_acc: 0.5538\n",
      "Epoch 18/20\n",
      "27228/27228 [==============================] - 11s 420us/step - loss: 1.0366 - acc: 0.5890 - val_loss: 1.1169 - val_acc: 0.5524\n",
      "Epoch 19/20\n",
      "27228/27228 [==============================] - 11s 416us/step - loss: 1.0295 - acc: 0.5935 - val_loss: 1.1317 - val_acc: 0.5442\n",
      "Epoch 20/20\n",
      "27228/27228 [==============================] - 11s 417us/step - loss: 1.0232 - acc: 0.5945 - val_loss: 1.1175 - val_acc: 0.5595\n"
     ]
    }
   ],
   "source": [
    "# Train the Model\n",
    "history = model.fit(X_train, y_train,\n",
    "                    epochs=20,\n",
    "                    batch_size=128,\n",
    "                    validation_split=0.2)"
   ]
  },
  {
   "cell_type": "code",
   "execution_count": 70,
   "metadata": {},
   "outputs": [
    {
     "data": {
      "image/png": "[encoded data removed]",
      "text/plain": [
       "<Figure size 432x288 with 1 Axes>"
      ]
     },
     "metadata": {
      "needs_background": "light"
     },
     "output_type": "display_data"
    },
    {
     "data": {
      "image/png": "[encoded data removed]",
      "text/plain": [
       "<Figure size 432x288 with 1 Axes>"
      ]
     },
     "metadata": {
      "needs_background": "light"
     },
     "output_type": "display_data"
    }
   ],
   "source": [
    "# Plot the Training and Validation Accuracy & Loss Scores\n",
    "%matplotlib inline\n",
    "\n",
    "acc = history.history['acc']\n",
    "val_acc = history.history['val_acc']\n",
    "loss = history.history['loss']\n",
    "val_loss = history.history['val_loss']\n",
    "\n",
    "epochs = range(len(acc))\n",
    "\n",
    "plt.plot(epochs, acc, 'bo', label='Training acc')\n",
    "plt.plot(epochs, val_acc, 'b', label='Validation acc')\n",
    "plt.title('Training and validation accuracy')\n",
    "plt.legend()\n",
    "\n",
    "plt.figure()\n",
    "\n",
    "plt.plot(epochs, loss, 'bo', label='Training loss')\n",
    "plt.plot(epochs, val_loss, 'b', label='Validation loss')\n",
    "plt.title('Training and validation loss')\n",
    "plt.legend()\n",
    "\n",
    "plt.show()"
   ]
  },
  {
   "cell_type": "markdown",
   "metadata": {},
   "source": [
    "### Overfit"
   ]
  },
  {
   "cell_type": "code",
   "execution_count": 71,
   "metadata": {},
   "outputs": [
    {
     "name": "stdout",
     "output_type": "stream",
     "text": [
      "_________________________________________________________________\n",
      "Layer (type)                 Output Shape              Param #   \n",
      "=================================================================\n",
      "embedding_11 (Embedding)     (None, 20, 50)            500000    \n",
      "_________________________________________________________________\n",
      "gru_5 (GRU)                  (None, 20, 256)           235776    \n",
      "_________________________________________________________________\n",
      "gru_6 (GRU)                  (None, 256)               393984    \n",
      "_________________________________________________________________\n",
      "dense_11 (Dense)             (None, 5)                 1285      \n",
      "=================================================================\n",
      "Total params: 1,131,045\n",
      "Trainable params: 1,131,045\n",
      "Non-trainable params: 0\n",
      "_________________________________________________________________\n"
     ]
    }
   ],
   "source": [
    "# Build the Model\n",
    "model = models.Sequential()\n",
    "# model.add(layers.Embedding(10000, 16, input_length=maxlen))\n",
    "model.add(layers.Embedding(max_words, embedding_dim, input_length=maxlen))\n",
    "model.add(layers.GRU(256, return_sequences=True))\n",
    "model.add(layers.GRU(256))\n",
    "model.add(layers.Dense(5, activation='softmax'))\n",
    "model.summary()"
   ]
  },
  {
   "cell_type": "code",
   "execution_count": 72,
   "metadata": {},
   "outputs": [],
   "source": [
    "model.layers[0].set_weights([embedding_matrix])\n",
    "model.layers[0].trainable = False "
   ]
  },
  {
   "cell_type": "code",
   "execution_count": 73,
   "metadata": {},
   "outputs": [],
   "source": [
    "model.compile(optimizer='rmsprop',\n",
    "              loss='sparse_categorical_crossentropy',\n",
    "              metrics=['acc'])"
   ]
  },
  {
   "cell_type": "code",
   "execution_count": 74,
   "metadata": {},
   "outputs": [
    {
     "name": "stdout",
     "output_type": "stream",
     "text": [
      "Train on 27228 samples, validate on 6808 samples\n",
      "Epoch 1/20\n",
      "27228/27228 [==============================] - 26s 938us/step - loss: 1.2960 - acc: 0.4699 - val_loss: 1.2554 - val_acc: 0.4858\n",
      "Epoch 2/20\n",
      "27228/27228 [==============================] - 23s 831us/step - loss: 1.2058 - acc: 0.5139 - val_loss: 1.1865 - val_acc: 0.5261\n",
      "Epoch 3/20\n",
      "27228/27228 [==============================] - 23s 828us/step - loss: 1.1513 - acc: 0.5369 - val_loss: 1.1481 - val_acc: 0.5311\n",
      "Epoch 4/20\n",
      "27228/27228 [==============================] - 23s 828us/step - loss: 1.1058 - acc: 0.5576 - val_loss: 1.1263 - val_acc: 0.5460\n",
      "Epoch 5/20\n",
      "27228/27228 [==============================] - 23s 827us/step - loss: 1.0546 - acc: 0.5793 - val_loss: 1.1439 - val_acc: 0.5438\n",
      "Epoch 6/20\n",
      "27228/27228 [==============================] - 22s 824us/step - loss: 1.0000 - acc: 0.6046 - val_loss: 1.1117 - val_acc: 0.5632\n",
      "Epoch 7/20\n",
      "27228/27228 [==============================] - 22s 824us/step - loss: 0.9332 - acc: 0.6341 - val_loss: 1.1191 - val_acc: 0.5558\n",
      "Epoch 8/20\n",
      "27228/27228 [==============================] - 23s 827us/step - loss: 0.8545 - acc: 0.6695 - val_loss: 1.1783 - val_acc: 0.5635\n",
      "Epoch 9/20\n",
      "27228/27228 [==============================] - 22s 826us/step - loss: 0.7573 - acc: 0.7109 - val_loss: 1.1902 - val_acc: 0.5611\n",
      "Epoch 10/20\n",
      "27228/27228 [==============================] - 22s 826us/step - loss: 0.6518 - acc: 0.7552 - val_loss: 1.2361 - val_acc: 0.5726\n",
      "Epoch 11/20\n",
      "27228/27228 [==============================] - 23s 827us/step - loss: 0.5385 - acc: 0.8026 - val_loss: 1.4037 - val_acc: 0.5626\n",
      "Epoch 12/20\n",
      "27228/27228 [==============================] - 22s 826us/step - loss: 0.4235 - acc: 0.8464 - val_loss: 1.5189 - val_acc: 0.5784\n",
      "Epoch 13/20\n",
      "27228/27228 [==============================] - 22s 825us/step - loss: 0.3202 - acc: 0.8857 - val_loss: 1.6781 - val_acc: 0.5909\n",
      "Epoch 14/20\n",
      "27228/27228 [==============================] - 23s 826us/step - loss: 0.2365 - acc: 0.9197 - val_loss: 1.8477 - val_acc: 0.5850\n",
      "Epoch 15/20\n",
      "27228/27228 [==============================] - 23s 827us/step - loss: 0.1726 - acc: 0.9433 - val_loss: 2.0275 - val_acc: 0.6015\n",
      "Epoch 16/20\n",
      "27228/27228 [==============================] - 22s 826us/step - loss: 0.1312 - acc: 0.9572 - val_loss: 2.2245 - val_acc: 0.5927\n",
      "Epoch 17/20\n",
      "27228/27228 [==============================] - 23s 828us/step - loss: 0.1074 - acc: 0.9666 - val_loss: 2.3448 - val_acc: 0.5873\n",
      "Epoch 18/20\n",
      "27228/27228 [==============================] - 23s 826us/step - loss: 0.0896 - acc: 0.9717 - val_loss: 2.5229 - val_acc: 0.5903\n",
      "Epoch 19/20\n",
      "27228/27228 [==============================] - 23s 828us/step - loss: 0.0789 - acc: 0.9765 - val_loss: 2.5597 - val_acc: 0.5977\n",
      "Epoch 20/20\n",
      "27228/27228 [==============================] - 23s 827us/step - loss: 0.0710 - acc: 0.9781 - val_loss: 2.6386 - val_acc: 0.5978\n"
     ]
    }
   ],
   "source": [
    "# Train the Model\n",
    "history = model.fit(X_train, y_train,\n",
    "                    epochs=20,\n",
    "                    batch_size=128,\n",
    "                    validation_split=0.2)"
   ]
  },
  {
   "cell_type": "code",
   "execution_count": 75,
   "metadata": {},
   "outputs": [
    {
     "data": {
      "image/png": "[encoded data removed]",
      "text/plain": [
       "<Figure size 432x288 with 1 Axes>"
      ]
     },
     "metadata": {
      "needs_background": "light"
     },
     "output_type": "display_data"
    },
    {
     "data": {
      "image/png": "[encoded data removed]",
      "text/plain": [
       "<Figure size 432x288 with 1 Axes>"
      ]
     },
     "metadata": {
      "needs_background": "light"
     },
     "output_type": "display_data"
    }
   ],
   "source": [
    "# Plot the Training and Validation Accuracy & Loss Scores\n",
    "%matplotlib inline\n",
    "\n",
    "acc = history.history['acc']\n",
    "val_acc = history.history['val_acc']\n",
    "loss = history.history['loss']\n",
    "val_loss = history.history['val_loss']\n",
    "\n",
    "epochs = range(len(acc))\n",
    "\n",
    "plt.plot(epochs, acc, 'bo', label='Training acc')\n",
    "plt.plot(epochs, val_acc, 'b', label='Validation acc')\n",
    "plt.title('Training and validation accuracy')\n",
    "plt.legend()\n",
    "\n",
    "plt.figure()\n",
    "\n",
    "plt.plot(epochs, loss, 'bo', label='Training loss')\n",
    "plt.plot(epochs, val_loss, 'b', label='Validation loss')\n",
    "plt.title('Training and validation loss')\n",
    "plt.legend()\n",
    "\n",
    "plt.show()"
   ]
  },
  {
   "cell_type": "markdown",
   "metadata": {},
   "source": [
    "### Fine Tuning"
   ]
  },
  {
   "cell_type": "code",
   "execution_count": 76,
   "metadata": {},
   "outputs": [
    {
     "name": "stdout",
     "output_type": "stream",
     "text": [
      "_________________________________________________________________\n",
      "Layer (type)                 Output Shape              Param #   \n",
      "=================================================================\n",
      "embedding_12 (Embedding)     (None, 20, 50)            500000    \n",
      "_________________________________________________________________\n",
      "gru_7 (GRU)                  (None, 20, 256)           235776    \n",
      "_________________________________________________________________\n",
      "gru_8 (GRU)                  (None, 256)               393984    \n",
      "_________________________________________________________________\n",
      "dense_12 (Dense)             (None, 5)                 1285      \n",
      "=================================================================\n",
      "Total params: 1,131,045\n",
      "Trainable params: 1,131,045\n",
      "Non-trainable params: 0\n",
      "_________________________________________________________________\n"
     ]
    }
   ],
   "source": [
    "# Build the Model\n",
    "model = models.Sequential()\n",
    "# model.add(layers.Embedding(10000, 16, input_length=maxlen))\n",
    "model.add(layers.Embedding(max_words, embedding_dim, input_length=maxlen))\n",
    "model.add(layers.GRU(256, return_sequences=True))\n",
    "model.add(layers.GRU(256))\n",
    "model.add(layers.Dense(5, activation='softmax'))\n",
    "model.summary()"
   ]
  },
  {
   "cell_type": "code",
   "execution_count": 77,
   "metadata": {},
   "outputs": [],
   "source": [
    "model.layers[0].set_weights([embedding_matrix])\n",
    "model.layers[0].trainable = True "
   ]
  },
  {
   "cell_type": "code",
   "execution_count": 78,
   "metadata": {},
   "outputs": [],
   "source": [
    "model.compile(optimizer='rmsprop',\n",
    "              loss='sparse_categorical_crossentropy',\n",
    "              metrics=['acc'])"
   ]
  },
  {
   "cell_type": "code",
   "execution_count": 79,
   "metadata": {},
   "outputs": [
    {
     "name": "stdout",
     "output_type": "stream",
     "text": [
      "Train on 27228 samples, validate on 6808 samples\n",
      "Epoch 1/20\n",
      "27228/27228 [==============================] - 26s 969us/step - loss: 1.2514 - acc: 0.4933 - val_loss: 1.1758 - val_acc: 0.5216\n",
      "Epoch 2/20\n",
      "27228/27228 [==============================] - 23s 841us/step - loss: 1.0351 - acc: 0.5807 - val_loss: 1.0170 - val_acc: 0.5743\n",
      "Epoch 3/20\n",
      "27228/27228 [==============================] - 23s 842us/step - loss: 0.9343 - acc: 0.6240 - val_loss: 0.9785 - val_acc: 0.6027\n",
      "Epoch 4/20\n",
      "27228/27228 [==============================] - 23s 842us/step - loss: 0.8633 - acc: 0.6548 - val_loss: 0.9646 - val_acc: 0.6138\n",
      "Epoch 5/20\n",
      "27228/27228 [==============================] - 23s 841us/step - loss: 0.7946 - acc: 0.6888 - val_loss: 0.9764 - val_acc: 0.6246\n",
      "Epoch 6/20\n",
      "27228/27228 [==============================] - 23s 843us/step - loss: 0.7197 - acc: 0.7230 - val_loss: 0.9764 - val_acc: 0.6318\n",
      "Epoch 7/20\n",
      "27228/27228 [==============================] - 23s 844us/step - loss: 0.6412 - acc: 0.7548 - val_loss: 1.0119 - val_acc: 0.6321\n",
      "Epoch 8/20\n",
      "27228/27228 [==============================] - 23s 844us/step - loss: 0.5588 - acc: 0.7893 - val_loss: 1.0543 - val_acc: 0.6231\n",
      "Epoch 9/20\n",
      "27228/27228 [==============================] - 23s 845us/step - loss: 0.4769 - acc: 0.8238 - val_loss: 1.1463 - val_acc: 0.6251\n",
      "Epoch 10/20\n",
      "27228/27228 [==============================] - 23s 843us/step - loss: 0.3889 - acc: 0.8576 - val_loss: 1.2483 - val_acc: 0.6415\n",
      "Epoch 11/20\n",
      "27228/27228 [==============================] - 23s 842us/step - loss: 0.3030 - acc: 0.8918 - val_loss: 1.3966 - val_acc: 0.6445\n",
      "Epoch 12/20\n",
      "27228/27228 [==============================] - 23s 846us/step - loss: 0.2248 - acc: 0.9204 - val_loss: 1.5553 - val_acc: 0.6425\n",
      "Epoch 13/20\n",
      "27228/27228 [==============================] - 23s 844us/step - loss: 0.1562 - acc: 0.9478 - val_loss: 1.7276 - val_acc: 0.6504\n",
      "Epoch 14/20\n",
      "27228/27228 [==============================] - 23s 846us/step - loss: 0.1084 - acc: 0.9646 - val_loss: 1.9046 - val_acc: 0.6539\n",
      "Epoch 15/20\n",
      "27228/27228 [==============================] - 23s 846us/step - loss: 0.0753 - acc: 0.9757 - val_loss: 2.2010 - val_acc: 0.6442\n",
      "Epoch 16/20\n",
      "27228/27228 [==============================] - 23s 846us/step - loss: 0.0558 - acc: 0.9823 - val_loss: 2.3443 - val_acc: 0.6529\n",
      "Epoch 17/20\n",
      "27228/27228 [==============================] - 23s 846us/step - loss: 0.0464 - acc: 0.9846 - val_loss: 2.4313 - val_acc: 0.6526\n",
      "Epoch 18/20\n",
      "27228/27228 [==============================] - 23s 844us/step - loss: 0.0367 - acc: 0.9877 - val_loss: 2.6439 - val_acc: 0.6541\n",
      "Epoch 19/20\n",
      "27228/27228 [==============================] - 23s 845us/step - loss: 0.0335 - acc: 0.9894 - val_loss: 2.7105 - val_acc: 0.6576\n",
      "Epoch 20/20\n",
      "27228/27228 [==============================] - 23s 851us/step - loss: 0.0282 - acc: 0.9912 - val_loss: 2.7318 - val_acc: 0.6486\n"
     ]
    }
   ],
   "source": [
    "# Train the Model\n",
    "history = model.fit(X_train, y_train,\n",
    "                    epochs=20,\n",
    "                    batch_size=128,\n",
    "                    validation_split=0.2)"
   ]
  },
  {
   "cell_type": "code",
   "execution_count": 80,
   "metadata": {},
   "outputs": [
    {
     "data": {
      "image/png": "[encoded data removed]",
      "text/plain": [
       "<Figure size 432x288 with 1 Axes>"
      ]
     },
     "metadata": {
      "needs_background": "light"
     },
     "output_type": "display_data"
    },
    {
     "data": {
      "image/png": "[encoded data removed]",
      "text/plain": [
       "<Figure size 432x288 with 1 Axes>"
      ]
     },
     "metadata": {
      "needs_background": "light"
     },
     "output_type": "display_data"
    }
   ],
   "source": [
    "# Plot the Training and Validation Accuracy & Loss Scores\n",
    "%matplotlib inline\n",
    "\n",
    "acc = history.history['acc']\n",
    "val_acc = history.history['val_acc']\n",
    "loss = history.history['loss']\n",
    "val_loss = history.history['val_loss']\n",
    "\n",
    "epochs = range(len(acc))\n",
    "\n",
    "plt.plot(epochs, acc, 'bo', label='Training acc')\n",
    "plt.plot(epochs, val_acc, 'b', label='Validation acc')\n",
    "plt.title('Training and validation accuracy')\n",
    "plt.legend()\n",
    "\n",
    "plt.figure()\n",
    "\n",
    "plt.plot(epochs, loss, 'bo', label='Training loss')\n",
    "plt.plot(epochs, val_loss, 'b', label='Validation loss')\n",
    "plt.title('Training and validation loss')\n",
    "plt.legend()\n",
    "\n",
    "plt.show()"
   ]
  },
  {
   "cell_type": "code",
   "execution_count": 81,
   "metadata": {},
   "outputs": [],
   "source": [
    "# Save the Model\n",
    "model.save('text_model_2.h5')"
   ]
  },
  {
   "cell_type": "markdown",
   "metadata": {},
   "source": [
    "### Model#3 (Student Name: XXXX)"
   ]
  },
  {
   "cell_type": "code",
   "execution_count": null,
   "metadata": {},
   "outputs": [],
   "source": [
    "# Build the Model"
   ]
  },
  {
   "cell_type": "code",
   "execution_count": null,
   "metadata": {},
   "outputs": [],
   "source": [
    "# Train the Model"
   ]
  },
  {
   "cell_type": "code",
   "execution_count": null,
   "metadata": {},
   "outputs": [],
   "source": [
    "# Plot the Training and Validation Accuracy & Loss Scores"
   ]
  },
  {
   "cell_type": "code",
   "execution_count": null,
   "metadata": {},
   "outputs": [],
   "source": [
    "# Save the Model\n",
    "model.save('text_model_3.h5')"
   ]
  },
  {
   "cell_type": "markdown",
   "metadata": {},
   "source": [
    "### Model#4 (Student Name: XXXX)"
   ]
  },
  {
   "cell_type": "code",
   "execution_count": null,
   "metadata": {},
   "outputs": [],
   "source": [
    "# Build the Model"
   ]
  },
  {
   "cell_type": "code",
   "execution_count": null,
   "metadata": {},
   "outputs": [],
   "source": [
    "# Train the Model"
   ]
  },
  {
   "cell_type": "code",
   "execution_count": null,
   "metadata": {},
   "outputs": [],
   "source": [
    "# Plot the Training and Validation Accuracy & Loss Scores"
   ]
  },
  {
   "cell_type": "code",
   "execution_count": null,
   "metadata": {},
   "outputs": [],
   "source": [
    "# Save the Model\n",
    "model.save('text_model_4.h5')"
   ]
  },
  {
   "cell_type": "markdown",
   "metadata": {},
   "source": [
    "### Model#5 (Student Name: XXXX)"
   ]
  },
  {
   "cell_type": "code",
   "execution_count": null,
   "metadata": {},
   "outputs": [],
   "source": [
    "# Build the Model"
   ]
  },
  {
   "cell_type": "code",
   "execution_count": null,
   "metadata": {},
   "outputs": [],
   "source": [
    "# Train the Model"
   ]
  },
  {
   "cell_type": "code",
   "execution_count": null,
   "metadata": {},
   "outputs": [],
   "source": [
    "# Plot the Training and Validation Accuracy & Loss Scores"
   ]
  },
  {
   "cell_type": "code",
   "execution_count": null,
   "metadata": {},
   "outputs": [],
   "source": [
    "# Save the Model\n",
    "model.save('text_model_5.h5')"
   ]
  },
  {
   "cell_type": "markdown",
   "metadata": {},
   "source": [
    "## Step 3 – Evaluate the Model using Testing Data (Individual & Group)"
   ]
  },
  {
   "cell_type": "code",
   "execution_count": 49,
   "metadata": {},
   "outputs": [
    {
     "name": "stdout",
     "output_type": "stream",
     "text": [
      "8510/8510 [==============================] - 9s 1ms/step\n",
      "test_loss: 2.0023443645371954\n",
      "test_acc: 0.636427732177963\n"
     ]
    }
   ],
   "source": [
    "# Model #1\n",
    "model.load_weights('text_model_1.h5')\n",
    "test_loss, test_acc = model.evaluate(X_test, y_test)\n",
    "print('test_loss:', test_loss)\n",
    "print('test_acc:', test_acc)"
   ]
  },
  {
   "cell_type": "code",
   "execution_count": 82,
   "metadata": {},
   "outputs": [
    {
     "name": "stdout",
     "output_type": "stream",
     "text": [
      "8510/8510 [==============================] - 8s 964us/step\n",
      "test_loss: 2.671066783429873\n",
      "test_acc: 0.6599294946840871\n"
     ]
    }
   ],
   "source": [
    "# Model #2\n",
    "model.load_weights('text_model_2.h5')\n",
    "test_loss, test_acc = model.evaluate(X_test, y_test)\n",
    "print('test_loss:', test_loss)\n",
    "print('test_acc:', test_acc)"
   ]
  },
  {
   "cell_type": "code",
   "execution_count": null,
   "metadata": {},
   "outputs": [],
   "source": [
    "# Model #3\n",
    "model.load_weights('text_model_3.h5')\n",
    "\n"
   ]
  },
  {
   "cell_type": "code",
   "execution_count": null,
   "metadata": {},
   "outputs": [],
   "source": [
    "# Model #4\n",
    "model.load_weights('text_model_4.h5')\n",
    "\n"
   ]
  },
  {
   "cell_type": "code",
   "execution_count": null,
   "metadata": {},
   "outputs": [],
   "source": [
    "# Model #5\n",
    "model.load_weights('text_model_5.h5')\n",
    "\n"
   ]
  },
  {
   "cell_type": "code",
   "execution_count": 83,
   "metadata": {},
   "outputs": [],
   "source": [
    "# Save the Best Model\n",
    "model.save('text_model_best.h5')"
   ]
  },
  {
   "cell_type": "markdown",
   "metadata": {},
   "source": [
    "## Step 4 – Use the Best Model to make prediction (Group)"
   ]
  },
  {
   "cell_type": "code",
   "execution_count": 84,
   "metadata": {},
   "outputs": [],
   "source": [
    "model.load_weights('text_model_best.h5')"
   ]
  },
  {
   "cell_type": "code",
   "execution_count": 121,
   "metadata": {},
   "outputs": [
    {
     "name": "stdout",
     "output_type": "stream",
     "text": [
      "Oh my god this is so cool\n"
     ]
    }
   ],
   "source": [
    "# takes the user input\n",
    "text_input = np.array([input()])"
   ]
  },
  {
   "cell_type": "code",
   "execution_count": 122,
   "metadata": {},
   "outputs": [],
   "source": [
    "# convert the user input into numeric tensor\n",
    "prediction_sequences = tokenizer.texts_to_sequences(text_input)\n",
    "padded_prediction_sequences = pad_sequences(prediction_sequences, maxlen=maxlen)"
   ]
  },
  {
   "cell_type": "code",
   "execution_count": 123,
   "metadata": {},
   "outputs": [
    {
     "name": "stdout",
     "output_type": "stream",
     "text": [
      "[[  0   0   0   0   0   0   0   0   0   0   0   0   0 180   3 302   9  16\n",
      "   21 575]]\n"
     ]
    }
   ],
   "source": [
    "print(padded_prediction_sequences)"
   ]
  },
  {
   "cell_type": "code",
   "execution_count": 124,
   "metadata": {},
   "outputs": [
    {
     "name": "stdout",
     "output_type": "stream",
     "text": [
      "Predicted Label: 0\n",
      "Predicted Emoji: 😍\n"
     ]
    }
   ],
   "source": [
    "# show the model output using predict function\n",
    "prediction = model.predict_classes(padded_prediction_sequences).item()\n",
    "print(\"Predicted Label: {0}\".format(prediction))\n",
    "result = emoji_dictionary[prediction]\n",
    "print(\"Predicted Emoji: {0}\".format(result))"
   ]
  }
 ],
 "metadata": {
  "kernelspec": {
   "display_name": "Python 3",
   "language": "python",
   "name": "python3"
  },
  "language_info": {
   "codemirror_mode": {
    "name": "ipython",
    "version": 3
   },
   "file_extension": ".py",
   "mimetype": "text/x-python",
   "name": "python",
   "nbconvert_exporter": "python",
   "pygments_lexer": "ipython3",
   "version": "3.7.3"
  }
 },
 "nbformat": 4,
 "nbformat_minor": 2
}
